{
 "cells": [
  {
   "attachments": {},
   "cell_type": "markdown",
   "metadata": {},
   "source": [
    "# Extract Buildings from Mask and Image"
   ]
  },
  {
   "cell_type": "code",
   "execution_count": 10,
   "metadata": {},
   "outputs": [
    {
     "name": "stdout",
     "output_type": "stream",
     "text": [
      "2799\n"
     ]
    }
   ],
   "source": [
    "import os\n",
    "from tqdm import tqdm\n",
    "from PIL import Image\n",
    "import numpy as np\n",
    "\n",
    "OUTPUT_PATH = 'output_mask2/'\n",
    "MASK_PATH = 'train/targets/'\n",
    "IMG_PATH = 'train/images/'\n",
    "CROP_SIZE = (64, 64)\n",
    "\n",
    "if not os.path.isdir(OUTPUT_PATH):\n",
    "    os.mkdir(OUTPUT_PATH)\n",
    "\n",
    "imgs_path = os.listdir(IMG_PATH)\n",
    "imgs_path = [x for x in imgs_path if ('post') in x]\n",
    "masks_path = os.listdir(MASK_PATH)\n",
    "masks_path = [x for x in masks_path if ('post') in x]\n",
    "\n",
    "print(len(imgs_path))"
   ]
  },
  {
   "attachments": {},
   "cell_type": "markdown",
   "metadata": {},
   "source": [
    "# Original Size"
   ]
  },
  {
   "cell_type": "code",
   "execution_count": null,
   "metadata": {},
   "outputs": [],
   "source": [
    "from skimage.measure import label, regionprops\n",
    "\n",
    "prog_bar = tqdm(tuple(zip(masks_path, imgs_path)))\n",
    "\n",
    "output_idx = 0\n",
    "for mask_path, img_path in prog_bar:\n",
    "    mask = np.array(Image.open(MASK_PATH+mask_path))\n",
    "    img = np.array(Image.open(IMG_PATH+img_path))\n",
    "    \n",
    "    mask_label = label(mask)\n",
    "    regions = regionprops(mask_label)\n",
    "\n",
    "    for prop in regions:\n",
    "        # isolate region\n",
    "        bdr = prop.bbox\n",
    "        crop_mask = mask_label.copy()\n",
    "        crop_mask = (crop_mask == prop.label).astype(np.uint8)\n",
    "\n",
    "        # crop image and mask\n",
    "        cropped_img = crop_mask[:,:,np.newaxis] * img\n",
    "        cropped_img = cropped_img[bdr[0]:bdr[2], bdr[1]:bdr[3]]\n",
    "        cropped_mask = crop_mask * mask # cropped to get label\n",
    "        cropped_mask = cropped_mask[bdr[0]:bdr[2], bdr[1]:bdr[3]]\n",
    "\n",
    "        # image label\n",
    "        cls = np.max(cropped_mask).item() - 1 # -1 for 0 indexing\n",
    "        if not os.path.isdir(OUTPUT_PATH + str(cls)):\n",
    "            os.mkdir(OUTPUT_PATH + str(cls))\n",
    "        \n",
    "        # resize and save to output\n",
    "        save_path = f\"{OUTPUT_PATH}{cls}/{output_idx}.png\"\n",
    "        output_idx += 1\n",
    "        Image.fromarray(cropped_img).resize(CROP_SIZE, Image.NEAREST).save(save_path)\n",
    "\n",
    "print(output_idx)"
   ]
  },
  {
   "attachments": {},
   "cell_type": "markdown",
   "metadata": {},
   "source": [
    "# Tiled"
   ]
  },
  {
   "cell_type": "code",
   "execution_count": null,
   "metadata": {},
   "outputs": [],
   "source": [
    "def tile_image(image, size):\n",
    "    tiles = []\n",
    "    for x in range(image.shape[0] // size[0]):\n",
    "        for y in range(image.shape[1] // size[1]):\n",
    "            top = size[0] * x\n",
    "            left = size[1] * y\n",
    "\n",
    "            bottom = top + size[0]\n",
    "            right = left + size[1]\n",
    "            \n",
    "            #print(f\"{top_left}, {bottom_right}\")\n",
    "            tiles.append(image[top:bottom, left:right])\n",
    "    return tiles\n",
    "\n",
    "\n",
    "TILE_SIZE = (256, 256)\n",
    "prog_bar = tqdm(tuple(zip(masks_path, imgs_path)))\n",
    "\n",
    "output_idx = 0\n",
    "for mask_path, img_path in prog_bar:\n",
    "    img0 = np.array(Image.open(IMG_PATH+img_path))\n",
    "    mask0 = np.array(Image.open(MASK_PATH+mask_path))\n",
    "\n",
    "    tiled_img = tile_image(img0, TILE_SIZE)\n",
    "    tiled_mask = tile_image(mask0, TILE_SIZE)\n",
    "\n",
    "    for img,mask in tuple(zip(tiled_img, tiled_mask)):\n",
    "        mask_label = label(mask)\n",
    "        regions = regionprops(mask_label)\n",
    "\n",
    "        for prop in regions:\n",
    "            # isolate region\n",
    "            bdr = prop.bbox\n",
    "            crop_mask = mask_label.copy()\n",
    "            crop_mask = (crop_mask == prop.label).astype(np.uint8)\n",
    "\n",
    "            # crop image and mask\n",
    "            cropped_img = crop_mask[:,:,np.newaxis] * img\n",
    "            cropped_img = cropped_img[bdr[0]:bdr[2], bdr[1]:bdr[3]]\n",
    "            cropped_mask = crop_mask * mask # cropped to get label\n",
    "            cropped_mask = cropped_mask[bdr[0]:bdr[2], bdr[1]:bdr[3]]\n",
    "\n",
    "            # image label\n",
    "            cls = np.max(cropped_mask).item() - 1 # -1 for 0 indexing\n",
    "            if not os.path.isdir(OUTPUT_PATH + str(cls)):\n",
    "                os.mkdir(OUTPUT_PATH + str(cls))\n",
    "            \n",
    "            # resize and save to output\n",
    "            save_path = f\"{OUTPUT_PATH}{cls}/{output_idx}.png\"\n",
    "            output_idx += 1\n",
    "            Image.fromarray(cropped_img).resize(CROP_SIZE, Image.NEAREST).save(save_path)\n",
    "\n",
    "print(output_idx)"
   ]
  }
 ],
 "metadata": {
  "kernelspec": {
   "display_name": "Python 3 (ipykernel)",
   "language": "python",
   "name": "python3"
  },
  "language_info": {
   "codemirror_mode": {
    "name": "ipython",
    "version": 3
   },
   "file_extension": ".py",
   "mimetype": "text/x-python",
   "name": "python",
   "nbconvert_exporter": "python",
   "pygments_lexer": "ipython3",
   "version": "3.7.11"
  },
  "vscode": {
   "interpreter": {
    "hash": "9c39c1d352b1b33b9773a03fde87dd70d7a73bf47607333d53e9195008013099"
   }
  }
 },
 "nbformat": 4,
 "nbformat_minor": 2
}
