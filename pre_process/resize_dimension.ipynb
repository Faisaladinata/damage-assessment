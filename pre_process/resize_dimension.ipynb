{
 "cells": [
  {
   "cell_type": "markdown",
   "metadata": {},
   "source": [
    "## Split Training Data to Smaller Images"
   ]
  },
  {
   "cell_type": "code",
   "execution_count": 21,
   "metadata": {},
   "outputs": [
    {
     "name": "stdout",
     "output_type": "stream",
     "text": [
      "242\n"
     ]
    }
   ],
   "source": [
    "import os\n",
    "from PIL import Image\n",
    "import numpy as np\n",
    "\n",
    "IMG_PATH = \"train/images/\"\n",
    "TARGET_PATH = \"train/targets/\"\n",
    "OUTPUT_PATH = \"output/\"\n",
    "ORIG_SIZE = (1024, 1024)\n",
    "OUTPUT_SIZE = (256, 256)\n",
    "\n",
    "if not os.path.isdir(OUTPUT_PATH):\n",
    "    os.mkdir(OUTPUT_PATH)\n",
    "    os.mkdir(OUTPUT_PATH + 'pre/')\n",
    "    os.mkdir(OUTPUT_PATH + 'post/')\n",
    "    os.mkdir(OUTPUT_PATH + 'pre/images/')\n",
    "    os.mkdir(OUTPUT_PATH + 'pre/masks/')\n",
    "    os.mkdir(OUTPUT_PATH + 'post/images/')\n",
    "    os.mkdir(OUTPUT_PATH + 'post/masks/')\n",
    "\n",
    "# get the list of images\n",
    "images_path = os.listdir(IMG_PATH)\n",
    "images_path = [(IMG_PATH + x) for x in images_path if (('pre' in x or 'post' in x) and 'earthquake' in x)]\n",
    "#images_path = [(IMG_PATH + x) for x in images_path]\n",
    "\n",
    "# get the list of targets\n",
    "targets_path = os.listdir(TARGET_PATH)\n",
    "targets_path = [(TARGET_PATH + x) for x in targets_path if (('pre' in x or 'post' in x) and 'earthquake' in x)]\n",
    "#targets_path = [(TARGET_PATH + x) for x in targets_path]\n",
    "\n",
    "print(len(images_path))"
   ]
  },
  {
   "cell_type": "code",
   "execution_count": 22,
   "metadata": {},
   "outputs": [
    {
     "name": "stderr",
     "output_type": "stream",
     "text": [
      "100%|██████████| 242/242 [06:01<00:00,  1.49s/it]\n"
     ]
    }
   ],
   "source": [
    "from tqdm import tqdm\n",
    "\n",
    "output_pre_index = 0\n",
    "output_post_index = 0\n",
    "\n",
    "# splt image to tiles\n",
    "def tile_image(image, size):\n",
    "    tiles = []\n",
    "    for x in range(image.shape[0] // size[0]):\n",
    "        for y in range(image.shape[1] // size[1]):\n",
    "            top = size[0] * x\n",
    "            left = size[1] * y\n",
    "\n",
    "            bottom = top + size[0]\n",
    "            right = left + size[1]\n",
    "            \n",
    "            #print(f\"{top_left}, {bottom_right}\")\n",
    "            tiles.append(image[top:bottom, left:right])\n",
    "    return tiles\n",
    "\n",
    "for img_path, tgt_path in tqdm(tuple(zip(images_path, targets_path))):\n",
    "    image = np.array(Image.open(img_path))\n",
    "    target = np.array(Image.open(tgt_path))\n",
    "\n",
    "    tiled_image = tile_image(image, OUTPUT_SIZE)\n",
    "    tiled_targets = tile_image(target, OUTPUT_SIZE)\n",
    "\n",
    "    for tile_img, tile_tgt in tuple(zip(tiled_image, tiled_targets)):\n",
    "        if ('pre' in img_path):\n",
    "            img_output_path = OUTPUT_PATH + 'pre/' + 'images/' + str(output_pre_index) + '.png'\n",
    "            target_output_path = OUTPUT_PATH + 'pre/' + 'masks/' + str(output_pre_index) + '.png'\n",
    "\n",
    "            Image.fromarray(tile_img).save(img_output_path)\n",
    "            Image.fromarray(tile_tgt).save(target_output_path)\n",
    "\n",
    "            output_pre_index += 1\n",
    "\n",
    "        elif ('post' in img_path):\n",
    "            img_output_path = OUTPUT_PATH + 'post/' + 'images/' + str(output_post_index) + '.png'\n",
    "            target_output_path = OUTPUT_PATH + 'post/' + 'masks/' + str(output_post_index) + '.png'\n",
    "\n",
    "            Image.fromarray(tile_img).save(img_output_path)\n",
    "            Image.fromarray(tile_tgt).save(target_output_path)\n",
    "\n",
    "            output_post_index += 1"
   ]
  },
  {
   "attachments": {},
   "cell_type": "markdown",
   "metadata": {},
   "source": [
    "***"
   ]
  }
 ],
 "metadata": {
  "kernelspec": {
   "display_name": "Python 3 (ipykernel)",
   "language": "python",
   "name": "python3"
  },
  "language_info": {
   "codemirror_mode": {
    "name": "ipython",
    "version": 3
   },
   "file_extension": ".py",
   "mimetype": "text/x-python",
   "name": "python",
   "nbconvert_exporter": "python",
   "pygments_lexer": "ipython3",
   "version": "3.7.11 (default, Jul 27 2021, 09:42:29) [MSC v.1916 64 bit (AMD64)]"
  },
  "vscode": {
   "interpreter": {
    "hash": "9c39c1d352b1b33b9773a03fde87dd70d7a73bf47607333d53e9195008013099"
   }
  }
 },
 "nbformat": 4,
 "nbformat_minor": 2
}
