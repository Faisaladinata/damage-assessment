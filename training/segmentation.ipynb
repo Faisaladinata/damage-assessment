{
 "cells": [
  {
   "cell_type": "code",
   "execution_count": 1,
   "metadata": {},
   "outputs": [
    {
     "name": "stderr",
     "output_type": "stream",
     "text": [
      "D:\\Users\\Edy Irwansyah\\anaconda3\\envs\\deepforest\\lib\\site-packages\\tqdm\\auto.py:22: TqdmWarning: IProgress not found. Please update jupyter and ipywidgets. See https://ipywidgets.readthedocs.io/en/stable/user_install.html\n",
      "  from .autonotebook import tqdm as notebook_tqdm\n"
     ]
    },
    {
     "name": "stdout",
     "output_type": "stream",
     "text": [
      "total:44784\n",
      "training:38066 validation:6718\n"
     ]
    }
   ],
   "source": [
    "# dataset param\n",
    "IMAGE_DATA_PATH = '../output/pre/images'\n",
    "MASK_DATA_PATH = '../output/pre/masks'\n",
    "IMG_SIZE = (256, 256)\n",
    "VAL_SPLIT = 0.15\n",
    "BATCH_SIZE = 16\n",
    "NUMWORKERS = 0\n",
    "\n",
    "# model training hparam\n",
    "EPOCH = 10\n",
    "LR = 1e-3\n",
    "\n",
    "# eval param\n",
    "PLOT_PATH = \"plots_segmentation/\"\n",
    "MODEL_PATH = \"model_segmentation/\"\n",
    "\n",
    "import torch\n",
    "from torch.utils.data import Dataset, DataLoader, Subset\n",
    "from torchvision import transforms\n",
    "import torchvision.transforms.functional as TF\n",
    "import os\n",
    "import numpy as np\n",
    "from PIL import Image\n",
    "from sklearn.model_selection import train_test_split\n",
    "\n",
    "DEVICE = 'cuda' if torch.cuda.is_available() else 'cpu'\n",
    "\n",
    "# dataset\n",
    "class SegDataset(Dataset):\n",
    "    def __init__(self, image_path, mask_path, transform=True):\n",
    "        self.images = os.listdir(image_path)\n",
    "        self.images = [os.path.join(image_path, x) for x in self.images]\n",
    "        self.masks = os.listdir(mask_path)\n",
    "        self.masks = [os.path.join(mask_path, x) for x in self.masks]\n",
    "        self.transform = transform\n",
    "\n",
    "    def __len__(self):\n",
    "        return len(self.images)\n",
    "\n",
    "    def augment(self, img, mask):\n",
    "        HFLIP_P = 0.2\n",
    "        VFLIP_P = 0.2\n",
    "        ROT_DEG = 60\n",
    "\n",
    "        if np.random.random() > HFLIP_P:\n",
    "            img = TF.hflip(img)\n",
    "            mask = TF.hflip(mask)\n",
    "\n",
    "        if np.random.random() > VFLIP_P:\n",
    "            img = TF.vflip(img)\n",
    "            mask = TF.vflip(mask)\n",
    "\n",
    "        angle = np.random.randint(-ROT_DEG, ROT_DEG)\n",
    "        #img = TF.rotate(img, angle, expand=True)\n",
    "        #mask = TF.rotate(mask, angle, expand=True)\n",
    "        #img = TF.resize(img, IMG_SIZE, transforms.InterpolationMode.BICUBIC)\n",
    "        #mask = TF.resize(mask, IMG_SIZE, transforms.InterpolationMode.BICUBIC)\n",
    "        img = TF.rotate(img, angle)\n",
    "        mask = TF.rotate(mask, angle)\n",
    "        \n",
    "        img = TF.to_tensor(img)\n",
    "        mask = np.array(mask, dtype=np.float32) # change dtype so to_tensor won't normalize 0,1\n",
    "        mask = TF.to_tensor(mask)\n",
    "\n",
    "        return img, mask\n",
    "\n",
    "    def __getitem__(self, index):\n",
    "        image = Image.open(self.images[index])\n",
    "        mask = Image.open(self.masks[index])\n",
    "\n",
    "        if self.transform:\n",
    "            image, mask = self.augment(image, mask)\n",
    "        else:\n",
    "            image = TF.to_tensor(image)\n",
    "            mask = np.array(mask, dtype=np.float32) # change dtype so to_tensor won't normalize 0,1\n",
    "            mask = TF.to_tensor(mask)\n",
    "\n",
    "        return image, mask\n",
    "\n",
    "# initialize dataset and loader\n",
    "full_dataset = SegDataset(IMAGE_DATA_PATH, MASK_DATA_PATH)\n",
    "full_dataset_test = SegDataset(IMAGE_DATA_PATH, MASK_DATA_PATH, transform=False)\n",
    "\n",
    "data_idx = np.arange(len(full_dataset))\n",
    "train_idx, val_idx = train_test_split(data_idx, test_size=VAL_SPLIT, random_state=100)\n",
    "\n",
    "train_dataset = Subset(full_dataset, train_idx)\n",
    "val_dataset = Subset(full_dataset_test, val_idx)\n",
    "print(f\"total:{len(full_dataset)}\\ntraining:{len(train_dataset)} validation:{len(val_dataset)}\")\n",
    "\n",
    "train_dataloader = DataLoader(train_dataset, BATCH_SIZE, shuffle=True, num_workers=NUMWORKERS, pin_memory=True)\n",
    "val_dataloader = DataLoader(val_dataset, BATCH_SIZE, num_workers=NUMWORKERS, pin_memory=True)"
   ]
  },
  {
   "cell_type": "code",
   "execution_count": 2,
   "metadata": {},
   "outputs": [],
   "source": [
    "from torch import nn\n",
    "import torch.nn.functional as F\n",
    "from tqdm import tqdm\n",
    "import torchmetrics.functional as MF\n",
    "import matplotlib.pyplot as plt\n",
    "\n",
    "def model_train(dataloader, model, loss_func, optimizer, current_epoch):\n",
    "    avg_loss = 0\n",
    "    avg_acc = 0\n",
    "    avg_prec = 0\n",
    "    avg_rec = 0\n",
    "    cur_len = 1\n",
    "    \n",
    "    model.train()\n",
    "    prog_bar = tqdm(dataloader, desc=f'Epoch: {current_epoch}', unit='batch')\n",
    "    for x,y in prog_bar:\n",
    "        pred = model(x.to(DEVICE))\n",
    "        target = y.to(DEVICE)\n",
    "        loss = loss_func(pred, target)\n",
    "\n",
    "        # backward\n",
    "        optimizer.zero_grad()\n",
    "        loss.backward()\n",
    "        optimizer.step()\n",
    "\n",
    "        # eval\n",
    "        acc = MF.accuracy(pred, target, task='binary', validate_args=False)\n",
    "        prec = MF.precision(pred, target, task='binary', validate_args=False)\n",
    "        rec = MF.recall(pred, target, task='binary', validate_args=False)\n",
    "        \n",
    "        avg_loss += loss.item()\n",
    "        avg_acc += acc\n",
    "        avg_prec += prec\n",
    "        avg_rec += rec\n",
    "\n",
    "        prog_bar.set_postfix_str(f'train accuracy:{avg_acc/cur_len:.3f}, loss:{avg_loss/cur_len:.3f}, prec:{avg_prec/cur_len:.3f}, rec:{avg_rec/cur_len:.3f}')\n",
    "        cur_len += 1\n",
    "    \n",
    "    # count avg\n",
    "    data_len = len(dataloader)\n",
    "    avg_loss /= data_len\n",
    "    avg_acc /= data_len\n",
    "    avg_prec /= data_len\n",
    "    avg_rec /= data_len\n",
    "\n",
    "    f1 = (2 * avg_prec * avg_rec) / (avg_prec + avg_rec)\n",
    "\n",
    "    history = {\n",
    "        'loss': avg_loss,\n",
    "        'accuracy' : avg_acc,\n",
    "        'precision' : avg_prec,\n",
    "        'recall' : avg_rec,\n",
    "        'f1_score' : f1\n",
    "    }\n",
    "\n",
    "    return history\n",
    "\n",
    "def model_predict(dataloader, model, loss_func, silent=True, save_prediction=False, use_convmat = False):\n",
    "    avg_loss = 0\n",
    "    avg_acc = 0\n",
    "    avg_prec = 0\n",
    "    avg_rec = 0\n",
    "    \n",
    "    confmat = None\n",
    "    \n",
    "    predictions = torch.Tensor()\n",
    "    targets = torch.Tensor()\n",
    "    \n",
    "    model.eval()\n",
    "    with torch.no_grad():\n",
    "        for x,y in tqdm(dataloader, desc='Predicting', unit='batch', disable=silent):\n",
    "            pred = model(x.to(DEVICE))\n",
    "            target = y.to(DEVICE)\n",
    "            loss = loss_func(pred, target)\n",
    "            \n",
    "            acc = MF.accuracy(pred, target, task='binary', validate_args=False)\n",
    "            prec = MF.precision(pred, target, task='binary', validate_args=False)\n",
    "            rec = MF.recall(pred, target, task='binary', validate_args=False)\n",
    "\n",
    "            avg_loss += loss.item()\n",
    "            avg_acc += acc\n",
    "            avg_prec += prec\n",
    "            avg_rec += rec\n",
    "            \n",
    "            if use_convmat:\n",
    "                if confmat == None:\n",
    "                    confmat = MF.classification.binary_confusion_matrix(pred, target, validate_args=False)\n",
    "                else:\n",
    "                    confmat += MF.classification.binary_confusion_matrix(pred, target, validate_args=False)\n",
    "            else:\n",
    "                predictions = torch.cat((predictions, pred.cpu()), dim=0)\n",
    "                targets = torch.cat((targets, target.cpu()), dim=0)\n",
    "            \n",
    "    data_len = len(dataloader)\n",
    "    avg_loss /= data_len\n",
    "    avg_acc /= data_len\n",
    "    avg_prec /= data_len\n",
    "    avg_rec /= data_len\n",
    "\n",
    "    f1 = (2 * avg_prec * avg_rec) / (avg_prec + avg_rec)\n",
    "    \n",
    "    if use_convmat:\n",
    "        iou = confmat[1, 1] / (confmat[0, 1] + confmat[1, 0] + confmat[1, 1])\n",
    "    else:\n",
    "        iou = MF.classification.binary_jaccard_index(predictions, targets, validate_args=False)\n",
    "    \n",
    "    if not silent:\n",
    "        print(f\"iou:{iou}, f1:{f1}\")\n",
    "\n",
    "    result = {\n",
    "        'loss': avg_loss,\n",
    "        'accuracy' : avg_acc,\n",
    "        'precision' : avg_prec,\n",
    "        'recall' : avg_rec,\n",
    "        'f1_score' : f1,\n",
    "        'iou' : iou\n",
    "    }\n",
    "    \n",
    "    if save_prediction:\n",
    "        result['predictions'] = predictions\n",
    "\n",
    "    return result\n",
    "\n",
    "def add_history(history_list, train_history, val_result):\n",
    "    history_list['loss'].append(train_history['loss'])\n",
    "    history_list['acc'].append(train_history['accuracy'].item())\n",
    "    history_list['prec'].append(train_history['precision'].item())\n",
    "    history_list['rec'].append(train_history['recall'].item())\n",
    "    history_list['f1'].append(train_history['f1_score'].item())\n",
    "    #history_list['iou'].append(train_history['iou'].item())\n",
    "\n",
    "    history_list['val_loss'].append(val_result['loss'])\n",
    "    history_list['val_acc'].append(val_result['accuracy'].item())\n",
    "    history_list['val_prec'].append(val_result['precision'].item())\n",
    "    history_list['val_rec'].append(val_result['recall'].item())\n",
    "    history_list['val_f1'].append(val_result['f1_score'].item())\n",
    "    history_list['iou'].append(val_result['iou'].item())\n",
    "    \n",
    "    return history_list\n",
    "\n",
    "def print_history(history:dict):\n",
    "    print(f\"training accuracy:{history['acc'][-1]:.3f}, precision:{history['prec'][-1]:.3f}, recall:{history['rec'][-1]:.3f}, f1:{history['f1'][-1]:.3f}\")\n",
    "    print(f\"validation accuracy:{history['val_acc'][-1]:.3f}, precision:{history['val_prec'][-1]:.3f}, recall:{history['val_rec'][-1]:.3f}, f1:{history['val_f1'][-1]:.3f}\")\n",
    "    print(f\"iou:{history['iou'][-1]:.3f}\")\n",
    "    \n",
    "def plot_history(history:dict):\n",
    "    if not os.path.isdir(PLOT_PATH):\n",
    "        os.mkdir(PLOT_PATH)\n",
    "\n",
    "    label = {\n",
    "        'loss' : 'loss',\n",
    "        'acc' : 'accuracy',\n",
    "        'prec' : 'precision',\n",
    "        'rec' : 'recall',\n",
    "        'f1' : 'f1 score'\n",
    "    }\n",
    "    \n",
    "    keys = ['loss', 'acc', 'prec', 'rec', 'f1']\n",
    "    \n",
    "    for k in keys:\n",
    "        plt.figure(figsize=(8, 8))\n",
    "        plt.plot(history[k])\n",
    "        plt.plot(history['val_'+k])\n",
    "        plt.xlabel('epoch')\n",
    "        plt.ylabel(label[k])\n",
    "        plt.legend(['training', 'validation'], loc='right')\n",
    "\n",
    "        save_path = os.path.join(PLOT_PATH, f\"{label[k]}.png\")\n",
    "        plt.savefig(save_path, bbox_inches='tight')\n",
    "        \n",
    "    plt.figure(figsize=(8, 8))\n",
    "    plt.plot(history['iou'])\n",
    "    plt.xlabel('epoch')\n",
    "    plt.ylabel('val_iou')\n",
    "    save_path = os.path.join(PLOT_PATH, f\"{'iou'}.png\")\n",
    "    plt.savefig(save_path, bbox_inches='tight')"
   ]
  },
  {
   "cell_type": "code",
   "execution_count": 3,
   "metadata": {},
   "outputs": [],
   "source": [
    "from torchvision.models import VisionTransformer\n",
    "from types import MethodType\n",
    "from torch.autograd import Variable\n",
    "\n",
    "class UpConvDecoder2(nn.Module):\n",
    "    def __init__(self, in_dim, out_dim):\n",
    "        super(UpConvDecoder2, self).__init__()\n",
    "\n",
    "        self.upconv = nn.Sequential(\n",
    "            nn.Conv2d(in_dim, in_dim//2, (3,3), padding='same'),\n",
    "            nn.ReLU(inplace=True),\n",
    "            nn.UpsamplingBilinear2d(scale_factor=2)\n",
    "        )\n",
    "        self.conv_layer = nn.Sequential(\n",
    "            nn.Conv2d(((in_dim//2)+out_dim), out_dim, (3,3), padding='same'),\n",
    "            nn.BatchNorm2d(out_dim),\n",
    "            nn.ReLU(inplace=True)\n",
    "        )\n",
    "    \n",
    "    def forward(self, last_layer, skip_path):\n",
    "        x = self.upconv(last_layer)\n",
    "\n",
    "        # concatenate\n",
    "        x = torch.cat((x, skip_path), dim=1)\n",
    "\n",
    "        x = self.conv_layer(x)\n",
    "        return x\n",
    "\n",
    "class TransUNet(nn.Module):\n",
    "    def __init__(self, resnet_model:nn.Module, vit_layers=8, vit_heads=4, vit_mlp_dim=512):\n",
    "        super(TransUNet, self).__init__()\n",
    "\n",
    "        # forward override for resnet\n",
    "        def resnet_fwd(self, x):\n",
    "            conv1 = self.conv1(x)\n",
    "            x = self.bn1(conv1)\n",
    "            x = self.relu(x)\n",
    "            x = self.maxpool(x)\n",
    "\n",
    "            layer1 = self.layer1(x)\n",
    "            layer2 = self.layer2(layer1)\n",
    "            layer3 = self.layer3(layer2)\n",
    "            layer4 = self.layer4(layer3)\n",
    "\n",
    "            return conv1, layer1, layer2, layer3, layer4\n",
    "\n",
    "        self.resnet = resnet_model\n",
    "        self.avgpool = None\n",
    "        self.resnet.fc = None\n",
    "        self.resnet.forward = MethodType(resnet_fwd, self.resnet)\n",
    "\n",
    "        # forward override for vit\n",
    "        def vit_fwd(self, x):\n",
    "            # Reshape and permute the input tensor\n",
    "            x = self._process_input(x)\n",
    "            n = x.shape[0]\n",
    "\n",
    "            # Expand the class token to the full batch\n",
    "            batch_class_token = self.class_token.expand(n, -1, -1)\n",
    "            x = torch.cat([batch_class_token, x], dim=1)\n",
    "\n",
    "            x = self.encoder(x)\n",
    "\n",
    "            return x[:, 1:, :]\n",
    "        \n",
    "        self.vit = VisionTransformer(\n",
    "            image_size=IMG_SIZE[0]//32,\n",
    "            #image_size=256//32,\n",
    "            patch_size=1,\n",
    "            num_layers=vit_layers,\n",
    "            num_heads=vit_heads,\n",
    "            hidden_dim=2048,\n",
    "            mlp_dim=vit_mlp_dim,\n",
    "            dropout=0.1,\n",
    "            attention_dropout=0.1)\n",
    "        self.vit.conv_proj = nn.Conv2d(\n",
    "                in_channels=2048,\n",
    "                out_channels=2048,\n",
    "                kernel_size=1,\n",
    "                stride=1\n",
    "            )\n",
    "        self.vit.heads = None\n",
    "        self.vit.forward = MethodType(vit_fwd, self.vit)\n",
    "        \n",
    "        self.upconv1 = UpConvDecoder2(2048, 1024)\n",
    "        self.upconv2 = UpConvDecoder2(1024, 512)\n",
    "        self.upconv3 = UpConvDecoder2(512, 256)\n",
    "        self.upconv4 = UpConvDecoder2(256, 64)\n",
    "        self.upconv5 = nn.Sequential(\n",
    "            nn.Conv2d(64, 64, (3,3), padding='same'),\n",
    "            nn.ReLU(),\n",
    "            nn.UpsamplingBilinear2d(scale_factor=(2, 2))\n",
    "        )\n",
    "        self.convout = nn.Conv2d(64, 1, (1,1), padding='same')\n",
    "\n",
    "    def patch_reshape(self, x):\n",
    "        n, c, hw = x.shape\n",
    "        n_h = IMG_SIZE[0]//32\n",
    "        n_w = IMG_SIZE[1]//32\n",
    "        #n_h = 256//32\n",
    "        #n_w = 256//32\n",
    "        \n",
    "        x = x.permute(0, 2, 1)\n",
    "        x = x.reshape(n, 2048, n_h, n_w)\n",
    "\n",
    "        return x\n",
    "\n",
    "    def forward(self, x):\n",
    "        # encoder\n",
    "        conv1, layer1, layer2, layer3, layer4 = self.resnet(x)\n",
    "\n",
    "        x = self.vit(layer4)\n",
    "        x = self.patch_reshape(x)\n",
    "\n",
    "        decoder1 = self.upconv1(layer4, layer3)\n",
    "        decoder2 = self.upconv2(decoder1, layer2)\n",
    "        decoder3 = self.upconv3(decoder2, layer1)\n",
    "        decoder4 = self.upconv4(decoder3, conv1)\n",
    "\n",
    "        decoder5 = self.upconv5(decoder4)\n",
    "        out = self.convout(decoder5)\n",
    "        \n",
    "        return out\n",
    "    \n",
    "class FocalLoss(nn.Module):\n",
    "    def __init__(self, gamma=2, alpha=0.25, reduction=\"mean\"):\n",
    "        super(FocalLoss, self).__init__()\n",
    "        self.gamma = gamma\n",
    "        self.alpha = alpha\n",
    "        self.reduction = reduction\n",
    "\n",
    "    def forward(self, inputs, targets):\n",
    "        p = torch.sigmoid(inputs)\n",
    "        ce_loss = F.binary_cross_entropy_with_logits(inputs, targets, reduction=\"none\")\n",
    "        p_t = p * targets + (1 - p) * (1 - targets)\n",
    "        loss = ce_loss * ((1 - p_t) ** self.gamma)\n",
    "\n",
    "        if self.alpha >= 0:\n",
    "            alpha_t = self.alpha * targets + (1 - self.alpha) * (1 - targets)\n",
    "            loss = alpha_t * loss\n",
    "        \n",
    "        # Check reduction option and return loss accordingly\n",
    "        if self.reduction == \"mean\":\n",
    "            loss = loss.mean()\n",
    "        elif self.reduction == \"sum\":\n",
    "            loss = loss.sum()\n",
    "\n",
    "        return loss"
   ]
  },
  {
   "cell_type": "markdown",
   "metadata": {},
   "source": [
    "***"
   ]
  },
  {
   "cell_type": "code",
   "execution_count": 5,
   "metadata": {},
   "outputs": [],
   "source": [
    "state = {\n",
    "    'epoch': 10,\n",
    "    'state_dict': model.state_dict(),\n",
    "    'optimizer': adam.state_dict(),\n",
    "    'history' : history\n",
    "}\n",
    "\n",
    "torch.save(state, \"model_segmentation.pth\")"
   ]
  },
  {
   "cell_type": "code",
   "execution_count": 6,
   "metadata": {},
   "outputs": [
    {
     "data": {
      "image/png": "[encoded data removed]",
      "text/plain": [
       "<Figure size 800x800 with 1 Axes>"
      ]
     },
     "metadata": {},
     "output_type": "display_data"
    },
    {
     "data": {
      "image/png": "[encoded data removed]",
      "text/plain": [
       "<Figure size 800x800 with 1 Axes>"
      ]
     },
     "metadata": {},
     "output_type": "display_data"
    },
    {
     "data": {
      "image/png": "[encoded data removed]",
      "text/plain": [
       "<Figure size 800x800 with 1 Axes>"
      ]
     },
     "metadata": {},
     "output_type": "display_data"
    },
    {
     "data": {
      "image/png": "[encoded data removed]",
      "text/plain": [
       "<Figure size 800x800 with 1 Axes>"
      ]
     },
     "metadata": {},
     "output_type": "display_data"
    },
    {
     "data": {
      "image/png": "[encoded data removed]",
      "text/plain": [
       "<Figure size 800x800 with 1 Axes>"
      ]
     },
     "metadata": {},
     "output_type": "display_data"
    },
    {
     "data": {
      "image/png": "[encoded data removed]",
      "text/plain": [
       "<Figure size 800x800 with 1 Axes>"
      ]
     },
     "metadata": {},
     "output_type": "display_data"
    }
   ],
   "source": [
    "plot_history(history)"
   ]
  },
  {
   "cell_type": "code",
   "execution_count": 4,
   "metadata": {},
   "outputs": [
    {
     "name": "stderr",
     "output_type": "stream",
     "text": [
      "Epoch: 1: 100%|████████| 1190/1190 [18:16<00:00,  1.09batch/s, train accuracy:0.953, loss:0.118, prec:0.656, rec:0.332]\n",
      "Predicting: 100%|█████████████████████████████████████████████████████████████████| 210/210 [01:49<00:00,  1.92batch/s]\n"
     ]
    },
    {
     "name": "stdout",
     "output_type": "stream",
     "text": [
      "iou:0.31804317235946655\n"
     ]
    },
    {
     "name": "stderr",
     "output_type": "stream",
     "text": [
      "Epoch: 2: 100%|████████| 1190/1190 [18:05<00:00,  1.10batch/s, train accuracy:0.964, loss:0.091, prec:0.726, rec:0.538]\n",
      "Predicting: 100%|█████████████████████████████████████████████████████████████████| 210/210 [01:37<00:00,  2.16batch/s]\n"
     ]
    },
    {
     "name": "stdout",
     "output_type": "stream",
     "text": [
      "iou:0.39370477199554443\n"
     ]
    },
    {
     "name": "stderr",
     "output_type": "stream",
     "text": [
      "Epoch: 3: 100%|████████| 1190/1190 [18:09<00:00,  1.09batch/s, train accuracy:0.968, loss:0.080, prec:0.758, rec:0.619]\n",
      "Predicting: 100%|█████████████████████████████████████████████████████████████████| 210/210 [01:59<00:00,  1.76batch/s]\n"
     ]
    },
    {
     "name": "stdout",
     "output_type": "stream",
     "text": [
      "iou:0.45968425273895264\n"
     ]
    },
    {
     "name": "stderr",
     "output_type": "stream",
     "text": [
      "Epoch: 4: 100%|████████| 1190/1190 [18:11<00:00,  1.09batch/s, train accuracy:0.971, loss:0.073, prec:0.778, rec:0.658]\n",
      "Predicting: 100%|█████████████████████████████████████████████████████████████████| 210/210 [01:37<00:00,  2.16batch/s]\n"
     ]
    },
    {
     "name": "stdout",
     "output_type": "stream",
     "text": [
      "iou:0.49940410256385803\n"
     ]
    },
    {
     "name": "stderr",
     "output_type": "stream",
     "text": [
      "Epoch: 5: 100%|████████| 1190/1190 [18:13<00:00,  1.09batch/s, train accuracy:0.972, loss:0.071, prec:0.787, rec:0.675]\n",
      "Predicting: 100%|█████████████████████████████████████████████████████████████████| 210/210 [01:37<00:00,  2.16batch/s]\n"
     ]
    },
    {
     "name": "stdout",
     "output_type": "stream",
     "text": [
      "iou:0.542053759098053\n"
     ]
    },
    {
     "name": "stderr",
     "output_type": "stream",
     "text": [
      "Epoch: 6: 100%|████████| 1190/1190 [18:10<00:00,  1.09batch/s, train accuracy:0.975, loss:0.064, prec:0.803, rec:0.705]\n",
      "Predicting: 100%|█████████████████████████████████████████████████████████████████| 210/210 [02:03<00:00,  1.70batch/s]\n"
     ]
    },
    {
     "name": "stdout",
     "output_type": "stream",
     "text": [
      "iou:0.4983581602573395\n"
     ]
    },
    {
     "name": "stderr",
     "output_type": "stream",
     "text": [
      "Epoch: 7: 100%|████████| 1190/1190 [18:05<00:00,  1.10batch/s, train accuracy:0.976, loss:0.062, prec:0.810, rec:0.714]\n",
      "Predicting: 100%|█████████████████████████████████████████████████████████████████| 210/210 [01:36<00:00,  2.17batch/s]\n"
     ]
    },
    {
     "name": "stdout",
     "output_type": "stream",
     "text": [
      "iou:0.4816744923591614\n"
     ]
    },
    {
     "name": "stderr",
     "output_type": "stream",
     "text": [
      "Epoch: 8: 100%|████████| 1190/1190 [18:02<00:00,  1.10batch/s, train accuracy:0.976, loss:0.060, prec:0.816, rec:0.725]\n",
      "Predicting: 100%|█████████████████████████████████████████████████████████████████| 210/210 [01:36<00:00,  2.17batch/s]\n"
     ]
    },
    {
     "name": "stdout",
     "output_type": "stream",
     "text": [
      "iou:0.5750167965888977\n"
     ]
    },
    {
     "name": "stderr",
     "output_type": "stream",
     "text": [
      "Epoch: 9: 100%|████████| 1190/1190 [18:06<00:00,  1.10batch/s, train accuracy:0.977, loss:0.058, prec:0.819, rec:0.736]\n",
      "Predicting: 100%|█████████████████████████████████████████████████████████████████| 210/210 [01:36<00:00,  2.17batch/s]\n"
     ]
    },
    {
     "name": "stdout",
     "output_type": "stream",
     "text": [
      "iou:0.5576487183570862\n"
     ]
    },
    {
     "name": "stderr",
     "output_type": "stream",
     "text": [
      "Epoch: 10: 100%|███████| 1190/1190 [18:02<00:00,  1.10batch/s, train accuracy:0.978, loss:0.056, prec:0.824, rec:0.745]\n",
      "Predicting: 100%|█████████████████████████████████████████████████████████████████| 210/210 [01:59<00:00,  1.75batch/s]\n"
     ]
    },
    {
     "name": "stdout",
     "output_type": "stream",
     "text": [
      "iou:0.5735536217689514\n",
      "training accuracy:0.978, precision:0.824, recall:0.745, f1:0.783\n",
      "validation accuracy:0.972, precision:0.850, recall:0.628, f1:0.722\n",
      "iou:0.574\n"
     ]
    }
   ],
   "source": [
    "from torchvision.models import resnet50\n",
    "\n",
    "model = TransUNet(resnet50(), 8, 8, 1024).to(DEVICE)\n",
    "\n",
    "bce = nn.BCEWithLogitsLoss()\n",
    "#focal = FocalLoss(gamma=2, alpha=-1)\n",
    "adam = torch.optim.Adam(model.parameters(), lr=LR)\n",
    "\n",
    "history = {\n",
    "    'loss' : [],\n",
    "    'acc' : [],\n",
    "    'prec' : [],\n",
    "    'rec' : [],\n",
    "    'f1' : [],\n",
    "    'val_loss' : [],\n",
    "    'val_acc' : [],\n",
    "    'val_prec' : [],\n",
    "    'val_rec' : [],\n",
    "    'val_f1' : [],\n",
    "    'iou' : []\n",
    "}\n",
    "\n",
    "# training loop\n",
    "for i in range(EPOCH):\n",
    "    train_history = model_train(train_dataloader, model, bce, adam, i+1)\n",
    "    val_result = model_predict(val_dataloader, model, bce, silent=False)\n",
    "\n",
    "    history = add_history(history, train_history, val_result)\n",
    "\n",
    "print_history(history)"
   ]
  },
  {
   "cell_type": "code",
   "execution_count": 4,
   "metadata": {},
   "outputs": [
    {
     "name": "stderr",
     "output_type": "stream",
     "text": [
      "Epoch: 1: 100%|████████| 2380/2380 [23:03<00:00,  1.72batch/s, train accuracy:0.959, loss:0.054, prec:0.682, rec:0.458]\n",
      "Predicting: 100%|█████████████████████████████████████████████████████████████████| 420/420 [04:00<00:00,  1.74batch/s]\n"
     ]
    },
    {
     "name": "stdout",
     "output_type": "stream",
     "text": [
      "iou:0.4300113916397095, f1:0.5828045606613159\n"
     ]
    },
    {
     "name": "stderr",
     "output_type": "stream",
     "text": [
      "Epoch: 2: 100%|████████| 2380/2380 [22:48<00:00,  1.74batch/s, train accuracy:0.969, loss:0.040, prec:0.759, rec:0.627]\n",
      "Predicting: 100%|█████████████████████████████████████████████████████████████████| 420/420 [03:59<00:00,  1.76batch/s]\n"
     ]
    },
    {
     "name": "stdout",
     "output_type": "stream",
     "text": [
      "iou:0.535152018070221, f1:0.682691216468811\n"
     ]
    },
    {
     "name": "stderr",
     "output_type": "stream",
     "text": [
      "Epoch: 3: 100%|████████| 2380/2380 [22:51<00:00,  1.74batch/s, train accuracy:0.973, loss:0.035, prec:0.782, rec:0.671]\n",
      "Predicting: 100%|█████████████████████████████████████████████████████████████████| 420/420 [03:58<00:00,  1.76batch/s]\n"
     ]
    },
    {
     "name": "stdout",
     "output_type": "stream",
     "text": [
      "iou:0.3396076261997223, f1:0.49044081568717957\n"
     ]
    },
    {
     "name": "stderr",
     "output_type": "stream",
     "text": [
      "Epoch: 4: 100%|████████| 2380/2380 [22:56<00:00,  1.73batch/s, train accuracy:0.974, loss:0.033, prec:0.796, rec:0.693]\n",
      "Predicting: 100%|█████████████████████████████████████████████████████████████████| 420/420 [04:00<00:00,  1.74batch/s]\n"
     ]
    },
    {
     "name": "stdout",
     "output_type": "stream",
     "text": [
      "iou:0.4641483724117279, f1:0.6168060898780823\n"
     ]
    },
    {
     "name": "stderr",
     "output_type": "stream",
     "text": [
      "Epoch: 5: 100%|████████| 2380/2380 [22:49<00:00,  1.74batch/s, train accuracy:0.976, loss:0.032, prec:0.804, rec:0.707]\n",
      "Predicting: 100%|█████████████████████████████████████████████████████████████████| 420/420 [03:59<00:00,  1.76batch/s]\n"
     ]
    },
    {
     "name": "stdout",
     "output_type": "stream",
     "text": [
      "iou:0.576872706413269, f1:0.7207016944885254\n"
     ]
    },
    {
     "name": "stderr",
     "output_type": "stream",
     "text": [
      "Epoch: 6: 100%|████████| 2380/2380 [22:59<00:00,  1.72batch/s, train accuracy:0.976, loss:0.031, prec:0.811, rec:0.719]\n",
      "Predicting: 100%|█████████████████████████████████████████████████████████████████| 420/420 [03:59<00:00,  1.76batch/s]\n"
     ]
    },
    {
     "name": "stdout",
     "output_type": "stream",
     "text": [
      "iou:0.5957266688346863, f1:0.7340080738067627\n"
     ]
    },
    {
     "name": "stderr",
     "output_type": "stream",
     "text": [
      "Epoch: 7: 100%|████████| 2380/2380 [22:58<00:00,  1.73batch/s, train accuracy:0.977, loss:0.030, prec:0.816, rec:0.729]\n",
      "Predicting: 100%|█████████████████████████████████████████████████████████████████| 420/420 [04:00<00:00,  1.74batch/s]\n"
     ]
    },
    {
     "name": "stdout",
     "output_type": "stream",
     "text": [
      "iou:0.5585501790046692, f1:0.7054796814918518\n"
     ]
    },
    {
     "name": "stderr",
     "output_type": "stream",
     "text": [
      "Epoch: 8: 100%|████████| 2380/2380 [22:48<00:00,  1.74batch/s, train accuracy:0.978, loss:0.029, prec:0.820, rec:0.735]\n",
      "Predicting: 100%|█████████████████████████████████████████████████████████████████| 420/420 [03:59<00:00,  1.76batch/s]\n"
     ]
    },
    {
     "name": "stdout",
     "output_type": "stream",
     "text": [
      "iou:0.5618883371353149, f1:0.7086407542228699\n"
     ]
    },
    {
     "name": "stderr",
     "output_type": "stream",
     "text": [
      "Epoch: 9: 100%|████████| 2380/2380 [22:59<00:00,  1.72batch/s, train accuracy:0.978, loss:0.028, prec:0.825, rec:0.744]\n",
      "Predicting: 100%|█████████████████████████████████████████████████████████████████| 420/420 [03:59<00:00,  1.75batch/s]\n"
     ]
    },
    {
     "name": "stdout",
     "output_type": "stream",
     "text": [
      "iou:0.6160874366760254, f1:0.7514161467552185\n"
     ]
    },
    {
     "name": "stderr",
     "output_type": "stream",
     "text": [
      "Epoch: 10: 100%|███████| 2380/2380 [22:49<00:00,  1.74batch/s, train accuracy:0.979, loss:0.027, prec:0.829, rec:0.749]\n",
      "Predicting: 100%|█████████████████████████████████████████████████████████████████| 420/420 [04:00<00:00,  1.75batch/s]\n"
     ]
    },
    {
     "name": "stdout",
     "output_type": "stream",
     "text": [
      "iou:0.6155223846435547, f1:0.750029981136322\n"
     ]
    },
    {
     "name": "stderr",
     "output_type": "stream",
     "text": [
      "Epoch: 11: 100%|███████| 2380/2380 [22:51<00:00,  1.74batch/s, train accuracy:0.979, loss:0.027, prec:0.829, rec:0.749]\n",
      "Predicting: 100%|█████████████████████████████████████████████████████████████████| 420/420 [03:58<00:00,  1.76batch/s]\n"
     ]
    },
    {
     "name": "stdout",
     "output_type": "stream",
     "text": [
      "iou:0.6105811595916748, f1:0.7473706603050232\n"
     ]
    },
    {
     "name": "stderr",
     "output_type": "stream",
     "text": [
      "Epoch: 12: 100%|███████| 2380/2380 [22:51<00:00,  1.74batch/s, train accuracy:0.979, loss:0.027, prec:0.834, rec:0.759]\n",
      "Predicting: 100%|█████████████████████████████████████████████████████████████████| 420/420 [03:58<00:00,  1.76batch/s]\n"
     ]
    },
    {
     "name": "stdout",
     "output_type": "stream",
     "text": [
      "iou:0.6274321675300598, f1:0.7601083517074585\n"
     ]
    },
    {
     "name": "stderr",
     "output_type": "stream",
     "text": [
      "Epoch: 13: 100%|███████| 2380/2380 [22:54<00:00,  1.73batch/s, train accuracy:0.980, loss:0.026, prec:0.836, rec:0.762]\n",
      "Predicting: 100%|█████████████████████████████████████████████████████████████████| 420/420 [04:00<00:00,  1.74batch/s]\n"
     ]
    },
    {
     "name": "stdout",
     "output_type": "stream",
     "text": [
      "iou:0.6130436062812805, f1:0.7497787475585938\n"
     ]
    },
    {
     "name": "stderr",
     "output_type": "stream",
     "text": [
      "Epoch: 14: 100%|███████| 2380/2380 [23:41<00:00,  1.67batch/s, train accuracy:0.980, loss:0.026, prec:0.836, rec:0.763]\n",
      "Predicting: 100%|█████████████████████████████████████████████████████████████████| 420/420 [04:21<00:00,  1.61batch/s]\n"
     ]
    },
    {
     "name": "stdout",
     "output_type": "stream",
     "text": [
      "iou:0.6400431990623474, f1:0.7716951370239258\n"
     ]
    },
    {
     "name": "stderr",
     "output_type": "stream",
     "text": [
      "Epoch: 15: 100%|███████| 2380/2380 [24:23<00:00,  1.63batch/s, train accuracy:0.980, loss:0.025, prec:0.841, rec:0.769]\n",
      "Predicting: 100%|█████████████████████████████████████████████████████████████████| 420/420 [03:58<00:00,  1.76batch/s]\n"
     ]
    },
    {
     "name": "stdout",
     "output_type": "stream",
     "text": [
      "iou:0.6415409445762634, f1:0.7714127898216248\n"
     ]
    },
    {
     "name": "stderr",
     "output_type": "stream",
     "text": [
      "Epoch: 16: 100%|███████| 2380/2380 [22:51<00:00,  1.74batch/s, train accuracy:0.980, loss:0.025, prec:0.842, rec:0.772]\n",
      "Predicting: 100%|█████████████████████████████████████████████████████████████████| 420/420 [04:00<00:00,  1.75batch/s]\n"
     ]
    },
    {
     "name": "stdout",
     "output_type": "stream",
     "text": [
      "iou:0.6254292130470276, f1:0.7574554681777954\n"
     ]
    },
    {
     "name": "stderr",
     "output_type": "stream",
     "text": [
      "Epoch: 17: 100%|███████| 2380/2380 [22:59<00:00,  1.72batch/s, train accuracy:0.981, loss:0.025, prec:0.844, rec:0.776]\n",
      "Predicting: 100%|█████████████████████████████████████████████████████████████████| 420/420 [03:58<00:00,  1.76batch/s]\n"
     ]
    },
    {
     "name": "stdout",
     "output_type": "stream",
     "text": [
      "iou:0.6462461948394775, f1:0.7762672305107117\n"
     ]
    },
    {
     "name": "stderr",
     "output_type": "stream",
     "text": [
      "Epoch: 18: 100%|███████| 2380/2380 [22:54<00:00,  1.73batch/s, train accuracy:0.981, loss:0.024, prec:0.848, rec:0.781]\n",
      "Predicting: 100%|█████████████████████████████████████████████████████████████████| 420/420 [03:58<00:00,  1.76batch/s]\n"
     ]
    },
    {
     "name": "stdout",
     "output_type": "stream",
     "text": [
      "iou:0.61588054895401, f1:0.7500333189964294\n"
     ]
    },
    {
     "name": "stderr",
     "output_type": "stream",
     "text": [
      "Epoch: 19: 100%|███████| 2380/2380 [22:53<00:00,  1.73batch/s, train accuracy:0.981, loss:0.024, prec:0.848, rec:0.782]\n",
      "Predicting: 100%|█████████████████████████████████████████████████████████████████| 420/420 [04:00<00:00,  1.74batch/s]\n"
     ]
    },
    {
     "name": "stdout",
     "output_type": "stream",
     "text": [
      "iou:0.6501957774162292, f1:0.778793215751648\n"
     ]
    },
    {
     "name": "stderr",
     "output_type": "stream",
     "text": [
      "Epoch: 20: 100%|███████| 2380/2380 [22:52<00:00,  1.73batch/s, train accuracy:0.981, loss:0.024, prec:0.850, rec:0.784]\n",
      "Predicting: 100%|█████████████████████████████████████████████████████████████████| 420/420 [03:59<00:00,  1.75batch/s]\n"
     ]
    },
    {
     "name": "stdout",
     "output_type": "stream",
     "text": [
      "iou:0.6441662907600403, f1:0.7731687426567078\n"
     ]
    },
    {
     "name": "stderr",
     "output_type": "stream",
     "text": [
      "Epoch: 21: 100%|███████| 2380/2380 [22:56<00:00,  1.73batch/s, train accuracy:0.981, loss:0.024, prec:0.848, rec:0.782]\n",
      "Predicting: 100%|█████████████████████████████████████████████████████████████████| 420/420 [03:58<00:00,  1.76batch/s]\n"
     ]
    },
    {
     "name": "stdout",
     "output_type": "stream",
     "text": [
      "iou:0.6479663252830505, f1:0.7759019136428833\n"
     ]
    },
    {
     "name": "stderr",
     "output_type": "stream",
     "text": [
      "Epoch: 22: 100%|███████| 2380/2380 [22:56<00:00,  1.73batch/s, train accuracy:0.982, loss:0.023, prec:0.851, rec:0.788]\n",
      "Predicting: 100%|█████████████████████████████████████████████████████████████████| 420/420 [04:02<00:00,  1.73batch/s]\n"
     ]
    },
    {
     "name": "stdout",
     "output_type": "stream",
     "text": [
      "iou:0.6576019525527954, f1:0.7829908728599548\n"
     ]
    },
    {
     "name": "stderr",
     "output_type": "stream",
     "text": [
      "Epoch: 23: 100%|███████| 2380/2380 [22:58<00:00,  1.73batch/s, train accuracy:0.982, loss:0.023, prec:0.854, rec:0.791]\n",
      "Predicting: 100%|█████████████████████████████████████████████████████████████████| 420/420 [03:59<00:00,  1.76batch/s]\n"
     ]
    },
    {
     "name": "stdout",
     "output_type": "stream",
     "text": [
      "iou:0.6329342722892761, f1:0.7646133899688721\n"
     ]
    },
    {
     "name": "stderr",
     "output_type": "stream",
     "text": [
      "Epoch: 24: 100%|███████| 2380/2380 [22:54<00:00,  1.73batch/s, train accuracy:0.982, loss:0.023, prec:0.854, rec:0.790]\n",
      "Predicting: 100%|█████████████████████████████████████████████████████████████████| 420/420 [03:58<00:00,  1.76batch/s]\n"
     ]
    },
    {
     "name": "stdout",
     "output_type": "stream",
     "text": [
      "iou:0.6104975342750549, f1:0.7439801692962646\n"
     ]
    },
    {
     "name": "stderr",
     "output_type": "stream",
     "text": [
      "Epoch: 25: 100%|███████| 2380/2380 [22:53<00:00,  1.73batch/s, train accuracy:0.982, loss:0.023, prec:0.855, rec:0.793]\n",
      "Predicting: 100%|█████████████████████████████████████████████████████████████████| 420/420 [04:01<00:00,  1.74batch/s]\n"
     ]
    },
    {
     "name": "stdout",
     "output_type": "stream",
     "text": [
      "iou:0.6694214344024658, f1:0.7921991944313049\n"
     ]
    },
    {
     "name": "stderr",
     "output_type": "stream",
     "text": [
      "Epoch: 26: 100%|███████| 2380/2380 [22:54<00:00,  1.73batch/s, train accuracy:0.982, loss:0.023, prec:0.855, rec:0.793]\n",
      "Predicting: 100%|█████████████████████████████████████████████████████████████████| 420/420 [03:58<00:00,  1.76batch/s]\n"
     ]
    },
    {
     "name": "stdout",
     "output_type": "stream",
     "text": [
      "iou:0.6228662133216858, f1:0.7614220976829529\n"
     ]
    },
    {
     "name": "stderr",
     "output_type": "stream",
     "text": [
      "Epoch: 27: 100%|███████| 2380/2380 [22:53<00:00,  1.73batch/s, train accuracy:0.983, loss:0.022, prec:0.858, rec:0.799]\n",
      "Predicting: 100%|█████████████████████████████████████████████████████████████████| 420/420 [03:58<00:00,  1.76batch/s]\n"
     ]
    },
    {
     "name": "stdout",
     "output_type": "stream",
     "text": [
      "iou:0.661622166633606, f1:0.7863932847976685\n"
     ]
    },
    {
     "name": "stderr",
     "output_type": "stream",
     "text": [
      "Epoch: 28: 100%|███████| 2380/2380 [22:53<00:00,  1.73batch/s, train accuracy:0.983, loss:0.022, prec:0.859, rec:0.800]\n",
      "Predicting: 100%|█████████████████████████████████████████████████████████████████| 420/420 [04:01<00:00,  1.74batch/s]\n"
     ]
    },
    {
     "name": "stdout",
     "output_type": "stream",
     "text": [
      "iou:0.6364156007766724, f1:0.7679653763771057\n"
     ]
    },
    {
     "name": "stderr",
     "output_type": "stream",
     "text": [
      "Epoch: 29: 100%|███████| 2380/2380 [22:57<00:00,  1.73batch/s, train accuracy:0.982, loss:0.023, prec:0.854, rec:0.794]\n",
      "Predicting: 100%|█████████████████████████████████████████████████████████████████| 420/420 [04:03<00:00,  1.73batch/s]\n"
     ]
    },
    {
     "name": "stdout",
     "output_type": "stream",
     "text": [
      "iou:0.6517936587333679, f1:0.7797908186912537\n"
     ]
    },
    {
     "name": "stderr",
     "output_type": "stream",
     "text": [
      "Epoch: 30: 100%|███████| 2380/2380 [24:02<00:00,  1.65batch/s, train accuracy:0.983, loss:0.022, prec:0.860, rec:0.802]\n",
      "Predicting: 100%|█████████████████████████████████████████████████████████████████| 420/420 [04:21<00:00,  1.61batch/s]\n"
     ]
    },
    {
     "name": "stdout",
     "output_type": "stream",
     "text": [
      "iou:0.6373299360275269, f1:0.7696551084518433\n"
     ]
    },
    {
     "name": "stderr",
     "output_type": "stream",
     "text": [
      "Epoch: 31: 100%|███████| 2380/2380 [24:00<00:00,  1.65batch/s, train accuracy:0.983, loss:0.022, prec:0.862, rec:0.803]\n",
      "Predicting: 100%|█████████████████████████████████████████████████████████████████| 420/420 [04:01<00:00,  1.74batch/s]\n"
     ]
    },
    {
     "name": "stdout",
     "output_type": "stream",
     "text": [
      "iou:0.6776300668716431, f1:0.8015221953392029\n"
     ]
    },
    {
     "name": "stderr",
     "output_type": "stream",
     "text": [
      "Epoch: 32: 100%|███████| 2380/2380 [22:59<00:00,  1.73batch/s, train accuracy:0.983, loss:0.022, prec:0.862, rec:0.804]\n",
      "Predicting: 100%|█████████████████████████████████████████████████████████████████| 420/420 [03:59<00:00,  1.75batch/s]\n"
     ]
    },
    {
     "name": "stdout",
     "output_type": "stream",
     "text": [
      "iou:0.6426217555999756, f1:0.7710572481155396\n"
     ]
    },
    {
     "name": "stderr",
     "output_type": "stream",
     "text": [
      "Epoch: 33: 100%|███████| 2380/2380 [22:49<00:00,  1.74batch/s, train accuracy:0.983, loss:0.021, prec:0.864, rec:0.805]\n",
      "Predicting: 100%|█████████████████████████████████████████████████████████████████| 420/420 [04:00<00:00,  1.75batch/s]\n"
     ]
    },
    {
     "name": "stdout",
     "output_type": "stream",
     "text": [
      "iou:0.6690452098846436, f1:0.7944420576095581\n"
     ]
    },
    {
     "name": "stderr",
     "output_type": "stream",
     "text": [
      "Epoch: 34: 100%|███████| 2380/2380 [22:58<00:00,  1.73batch/s, train accuracy:0.983, loss:0.021, prec:0.864, rec:0.807]\n",
      "Predicting: 100%|█████████████████████████████████████████████████████████████████| 420/420 [04:02<00:00,  1.73batch/s]\n"
     ]
    },
    {
     "name": "stdout",
     "output_type": "stream",
     "text": [
      "iou:0.6649245619773865, f1:0.7901633381843567\n"
     ]
    },
    {
     "name": "stderr",
     "output_type": "stream",
     "text": [
      "Epoch: 35: 100%|███████| 2380/2380 [22:54<00:00,  1.73batch/s, train accuracy:0.983, loss:0.022, prec:0.862, rec:0.805]\n",
      "Predicting: 100%|█████████████████████████████████████████████████████████████████| 420/420 [04:00<00:00,  1.75batch/s]\n"
     ]
    },
    {
     "name": "stdout",
     "output_type": "stream",
     "text": [
      "iou:0.6376409530639648, f1:0.7686102986335754\n"
     ]
    },
    {
     "name": "stderr",
     "output_type": "stream",
     "text": [
      "Epoch: 36: 100%|███████| 2380/2380 [22:52<00:00,  1.73batch/s, train accuracy:0.983, loss:0.021, prec:0.865, rec:0.808]\n",
      "Predicting: 100%|█████████████████████████████████████████████████████████████████| 420/420 [04:00<00:00,  1.75batch/s]\n"
     ]
    },
    {
     "name": "stdout",
     "output_type": "stream",
     "text": [
      "iou:0.5968262553215027, f1:0.7374067306518555\n"
     ]
    },
    {
     "name": "stderr",
     "output_type": "stream",
     "text": [
      "Epoch: 37: 100%|███████| 2380/2380 [22:53<00:00,  1.73batch/s, train accuracy:0.983, loss:0.021, prec:0.865, rec:0.810]\n",
      "Predicting: 100%|█████████████████████████████████████████████████████████████████| 420/420 [04:06<00:00,  1.71batch/s]\n"
     ]
    },
    {
     "name": "stdout",
     "output_type": "stream",
     "text": [
      "iou:0.6665595173835754, f1:0.7918880581855774\n"
     ]
    },
    {
     "name": "stderr",
     "output_type": "stream",
     "text": [
      "Epoch: 38: 100%|███████| 2380/2380 [23:04<00:00,  1.72batch/s, train accuracy:0.984, loss:0.021, prec:0.868, rec:0.812]\n",
      "Predicting: 100%|█████████████████████████████████████████████████████████████████| 420/420 [04:22<00:00,  1.60batch/s]\n"
     ]
    },
    {
     "name": "stdout",
     "output_type": "stream",
     "text": [
      "iou:0.6707965731620789, f1:0.7942745685577393\n"
     ]
    },
    {
     "name": "stderr",
     "output_type": "stream",
     "text": [
      "Epoch: 39: 100%|███████| 2380/2380 [25:10<00:00,  1.58batch/s, train accuracy:0.984, loss:0.020, prec:0.866, rec:0.814]\n",
      "Predicting: 100%|█████████████████████████████████████████████████████████████████| 420/420 [04:00<00:00,  1.75batch/s]\n"
     ]
    },
    {
     "name": "stdout",
     "output_type": "stream",
     "text": [
      "iou:0.6794172525405884, f1:0.8017657399177551\n"
     ]
    },
    {
     "name": "stderr",
     "output_type": "stream",
     "text": [
      "Epoch: 40: 100%|███████| 2380/2380 [22:56<00:00,  1.73batch/s, train accuracy:0.984, loss:0.021, prec:0.867, rec:0.813]\n",
      "Predicting: 100%|█████████████████████████████████████████████████████████████████| 420/420 [04:02<00:00,  1.74batch/s]\n"
     ]
    },
    {
     "name": "stdout",
     "output_type": "stream",
     "text": [
      "iou:0.6316675543785095, f1:0.7662317752838135\n"
     ]
    },
    {
     "name": "stderr",
     "output_type": "stream",
     "text": [
      "Epoch: 41: 100%|███████| 2380/2380 [22:59<00:00,  1.73batch/s, train accuracy:0.984, loss:0.020, prec:0.869, rec:0.814]\n",
      "Predicting: 100%|█████████████████████████████████████████████████████████████████| 420/420 [04:00<00:00,  1.74batch/s]\n"
     ]
    },
    {
     "name": "stdout",
     "output_type": "stream",
     "text": [
      "iou:0.6887272596359253, f1:0.8084313869476318\n"
     ]
    },
    {
     "name": "stderr",
     "output_type": "stream",
     "text": [
      "Epoch: 42: 100%|███████| 2380/2380 [22:57<00:00,  1.73batch/s, train accuracy:0.984, loss:0.020, prec:0.868, rec:0.814]\n",
      "Predicting: 100%|█████████████████████████████████████████████████████████████████| 420/420 [04:00<00:00,  1.75batch/s]\n"
     ]
    },
    {
     "name": "stdout",
     "output_type": "stream",
     "text": [
      "iou:0.6911977529525757, f1:0.8107649087905884\n"
     ]
    },
    {
     "name": "stderr",
     "output_type": "stream",
     "text": [
      "Epoch: 43: 100%|███████| 2380/2380 [22:51<00:00,  1.73batch/s, train accuracy:0.984, loss:0.020, prec:0.871, rec:0.817]\n",
      "Predicting: 100%|█████████████████████████████████████████████████████████████████| 420/420 [04:00<00:00,  1.75batch/s]\n"
     ]
    },
    {
     "name": "stdout",
     "output_type": "stream",
     "text": [
      "iou:0.6577577590942383, f1:0.7844154238700867\n"
     ]
    },
    {
     "name": "stderr",
     "output_type": "stream",
     "text": [
      "Epoch: 44: 100%|███████| 2380/2380 [22:54<00:00,  1.73batch/s, train accuracy:0.984, loss:0.020, prec:0.869, rec:0.814]\n",
      "Predicting: 100%|█████████████████████████████████████████████████████████████████| 420/420 [03:59<00:00,  1.75batch/s]\n"
     ]
    },
    {
     "name": "stdout",
     "output_type": "stream",
     "text": [
      "iou:0.684336245059967, f1:0.8057827353477478\n"
     ]
    },
    {
     "name": "stderr",
     "output_type": "stream",
     "text": [
      "Epoch: 45: 100%|███████| 2380/2380 [22:50<00:00,  1.74batch/s, train accuracy:0.984, loss:0.020, prec:0.870, rec:0.818]\n",
      "Predicting: 100%|█████████████████████████████████████████████████████████████████| 420/420 [03:59<00:00,  1.75batch/s]\n"
     ]
    },
    {
     "name": "stdout",
     "output_type": "stream",
     "text": [
      "iou:0.6807906031608582, f1:0.8034680485725403\n"
     ]
    },
    {
     "name": "stderr",
     "output_type": "stream",
     "text": [
      "Epoch: 46: 100%|███████| 2380/2380 [22:51<00:00,  1.74batch/s, train accuracy:0.984, loss:0.020, prec:0.871, rec:0.819]\n",
      "Predicting: 100%|█████████████████████████████████████████████████████████████████| 420/420 [04:02<00:00,  1.73batch/s]\n"
     ]
    },
    {
     "name": "stdout",
     "output_type": "stream",
     "text": [
      "iou:0.6916787624359131, f1:0.810035765171051\n"
     ]
    },
    {
     "name": "stderr",
     "output_type": "stream",
     "text": [
      "Epoch: 47: 100%|███████| 2380/2380 [22:53<00:00,  1.73batch/s, train accuracy:0.985, loss:0.020, prec:0.872, rec:0.822]\n",
      "Predicting: 100%|█████████████████████████████████████████████████████████████████| 420/420 [04:00<00:00,  1.75batch/s]\n"
     ]
    },
    {
     "name": "stdout",
     "output_type": "stream",
     "text": [
      "iou:0.6878970861434937, f1:0.8059825301170349\n"
     ]
    },
    {
     "name": "stderr",
     "output_type": "stream",
     "text": [
      "Epoch: 48: 100%|███████| 2380/2380 [22:54<00:00,  1.73batch/s, train accuracy:0.984, loss:0.020, prec:0.872, rec:0.821]\n",
      "Predicting: 100%|█████████████████████████████████████████████████████████████████| 420/420 [04:00<00:00,  1.75batch/s]\n"
     ]
    },
    {
     "name": "stdout",
     "output_type": "stream",
     "text": [
      "iou:0.5561418533325195, f1:0.7035835385322571\n"
     ]
    },
    {
     "name": "stderr",
     "output_type": "stream",
     "text": [
      "Epoch: 49: 100%|███████| 2380/2380 [22:54<00:00,  1.73batch/s, train accuracy:0.985, loss:0.019, prec:0.874, rec:0.823]\n",
      "Predicting: 100%|█████████████████████████████████████████████████████████████████| 420/420 [04:03<00:00,  1.72batch/s]\n"
     ]
    },
    {
     "name": "stdout",
     "output_type": "stream",
     "text": [
      "iou:0.6943598389625549, f1:0.813586413860321\n"
     ]
    },
    {
     "name": "stderr",
     "output_type": "stream",
     "text": [
      "Epoch: 50: 100%|███████| 2380/2380 [22:58<00:00,  1.73batch/s, train accuracy:0.985, loss:0.019, prec:0.876, rec:0.824]\n",
      "Predicting: 100%|█████████████████████████████████████████████████████████████████| 420/420 [04:00<00:00,  1.75batch/s]\n"
     ]
    },
    {
     "name": "stdout",
     "output_type": "stream",
     "text": [
      "iou:0.7029212713241577, f1:0.8186274170875549\n",
      "training accuracy:0.985, precision:0.876, recall:0.824, f1:0.849\n",
      "validation accuracy:0.980, precision:0.838, recall:0.800, f1:0.819\n",
      "iou:0.703\n"
     ]
    }
   ],
   "source": [
    "from torchvision.models import resnet50\n",
    "\n",
    "model = TransUNet(resnet50(), 8, 8, 3072).to(DEVICE)\n",
    "\n",
    "focal = FocalLoss(gamma=1, alpha=-1)\n",
    "adam = torch.optim.Adam(model.parameters(), lr=LR)\n",
    "\n",
    "history = {\n",
    "    'loss' : [],\n",
    "    'acc' : [],\n",
    "    'prec' : [],\n",
    "    'rec' : [],\n",
    "    'f1' : [],\n",
    "    'val_loss' : [],\n",
    "    'val_acc' : [],\n",
    "    'val_prec' : [],\n",
    "    'val_rec' : [],\n",
    "    'val_f1' : [],\n",
    "    'iou' : []\n",
    "}\n",
    "\n",
    "# training loop\n",
    "for i in range(EPOCH):\n",
    "    train_history = model_train(train_dataloader, model, focal, adam, i+1)\n",
    "    val_result = model_predict(val_dataloader, model, focal, silent=False)\n",
    "\n",
    "    history = add_history(history, train_history, val_result)\n",
    "    \n",
    "    if ((i+1)%10 == 0):\n",
    "        state = {\n",
    "            'epoch' : i,\n",
    "            'state_dict': model.state_dict(),\n",
    "            'optimizer': adam.state_dict(),\n",
    "            'history' : history\n",
    "        }\n",
    "        torch.save(state, f\"model_segmentation_{i+1}.pth\")\n",
    "\n",
    "print_history(history)"
   ]
  },
  {
   "cell_type": "code",
   "execution_count": 4,
   "metadata": {
    "scrolled": false
   },
   "outputs": [
    {
     "name": "stderr",
     "output_type": "stream",
     "text": [
      "Epoch: 1: 100%|████████| 1190/1190 [18:53<00:00,  1.05batch/s, train accuracy:0.956, loss:0.029, prec:0.652, rec:0.343]\n",
      "Predicting: 100%|█████████████████████████████████████████████████████████████████| 210/210 [02:57<00:00,  1.18batch/s]\n"
     ]
    },
    {
     "name": "stdout",
     "output_type": "stream",
     "text": [
      "iou:0.1760156750679016, f1:0.2864474058151245\n"
     ]
    },
    {
     "name": "stderr",
     "output_type": "stream",
     "text": [
      "Epoch: 2: 100%|████████| 1190/1190 [18:06<00:00,  1.10batch/s, train accuracy:0.966, loss:0.023, prec:0.736, rec:0.572]\n",
      "Predicting: 100%|█████████████████████████████████████████████████████████████████| 210/210 [02:29<00:00,  1.41batch/s]\n"
     ]
    },
    {
     "name": "stdout",
     "output_type": "stream",
     "text": [
      "iou:0.4028392732143402, f1:0.5695726871490479\n"
     ]
    },
    {
     "name": "stderr",
     "output_type": "stream",
     "text": [
      "Epoch: 3: 100%|████████| 1190/1190 [18:04<00:00,  1.10batch/s, train accuracy:0.971, loss:0.020, prec:0.764, rec:0.640]\n",
      "Predicting: 100%|█████████████████████████████████████████████████████████████████| 210/210 [02:29<00:00,  1.41batch/s]\n"
     ]
    },
    {
     "name": "stdout",
     "output_type": "stream",
     "text": [
      "iou:0.391388475894928, f1:0.5538542866706848\n"
     ]
    },
    {
     "name": "stderr",
     "output_type": "stream",
     "text": [
      "Epoch: 4: 100%|████████| 1190/1190 [20:11<00:00,  1.02s/batch, train accuracy:0.972, loss:0.019, prec:0.774, rec:0.662]\n",
      "Predicting: 100%|█████████████████████████████████████████████████████████████████| 210/210 [03:19<00:00,  1.05batch/s]\n"
     ]
    },
    {
     "name": "stdout",
     "output_type": "stream",
     "text": [
      "iou:0.4803784191608429, f1:0.6432474255561829\n"
     ]
    },
    {
     "name": "stderr",
     "output_type": "stream",
     "text": [
      "Epoch: 5: 100%|████████| 1190/1190 [18:25<00:00,  1.08batch/s, train accuracy:0.975, loss:0.017, prec:0.794, rec:0.698]\n",
      "Predicting: 100%|█████████████████████████████████████████████████████████████████| 210/210 [02:30<00:00,  1.39batch/s]\n"
     ]
    },
    {
     "name": "stdout",
     "output_type": "stream",
     "text": [
      "iou:0.46039879322052, f1:0.6229540705680847\n"
     ]
    },
    {
     "name": "stderr",
     "output_type": "stream",
     "text": [
      "Epoch: 6: 100%|████████| 1190/1190 [18:18<00:00,  1.08batch/s, train accuracy:0.976, loss:0.016, prec:0.803, rec:0.711]\n",
      "Predicting: 100%|█████████████████████████████████████████████████████████████████| 210/210 [02:30<00:00,  1.39batch/s]\n"
     ]
    },
    {
     "name": "stdout",
     "output_type": "stream",
     "text": [
      "iou:0.53851717710495, f1:0.6945183277130127\n"
     ]
    },
    {
     "name": "stderr",
     "output_type": "stream",
     "text": [
      "Epoch: 7: 100%|████████| 1190/1190 [18:12<00:00,  1.09batch/s, train accuracy:0.976, loss:0.016, prec:0.806, rec:0.719]\n",
      "Predicting: 100%|█████████████████████████████████████████████████████████████████| 210/210 [02:47<00:00,  1.25batch/s]\n"
     ]
    },
    {
     "name": "stdout",
     "output_type": "stream",
     "text": [
      "iou:0.4592268764972687, f1:0.6234158873558044\n"
     ]
    },
    {
     "name": "stderr",
     "output_type": "stream",
     "text": [
      "Epoch: 8: 100%|████████| 1190/1190 [18:16<00:00,  1.09batch/s, train accuracy:0.977, loss:0.016, prec:0.811, rec:0.723]\n",
      "Predicting: 100%|█████████████████████████████████████████████████████████████████| 210/210 [02:30<00:00,  1.39batch/s]\n"
     ]
    },
    {
     "name": "stdout",
     "output_type": "stream",
     "text": [
      "iou:0.4469151198863983, f1:0.6096571087837219\n"
     ]
    },
    {
     "name": "stderr",
     "output_type": "stream",
     "text": [
      "Epoch: 9: 100%|████████| 1190/1190 [18:17<00:00,  1.08batch/s, train accuracy:0.978, loss:0.015, prec:0.815, rec:0.733]\n",
      "Predicting: 100%|█████████████████████████████████████████████████████████████████| 210/210 [02:30<00:00,  1.39batch/s]\n"
     ]
    },
    {
     "name": "stdout",
     "output_type": "stream",
     "text": [
      "iou:0.5572065711021423, f1:0.7122598886489868\n"
     ]
    },
    {
     "name": "stderr",
     "output_type": "stream",
     "text": [
      "Epoch: 10: 100%|███████| 1190/1190 [18:10<00:00,  1.09batch/s, train accuracy:0.978, loss:0.015, prec:0.821, rec:0.741]\n",
      "Predicting: 100%|█████████████████████████████████████████████████████████████████| 210/210 [02:43<00:00,  1.29batch/s]\n"
     ]
    },
    {
     "name": "stdout",
     "output_type": "stream",
     "text": [
      "iou:0.5771514177322388, f1:0.7275652885437012\n",
      "training accuracy:0.978, precision:0.821, recall:0.741, f1:0.779\n",
      "validation accuracy:0.964, precision:0.654, recall:0.820, f1:0.728\n",
      "iou:0.577\n"
     ]
    }
   ],
   "source": [
    "from torchvision.models import resnet50\n",
    "\n",
    "model = TransUNet(resnet50(), 8, 8, 1024).to(DEVICE)\n",
    "\n",
    "focal = FocalLoss(gamma=2, alpha=-1)\n",
    "adam = torch.optim.Adam(model.parameters(), lr=LR)\n",
    "\n",
    "history = {\n",
    "    'loss' : [],\n",
    "    'acc' : [],\n",
    "    'prec' : [],\n",
    "    'rec' : [],\n",
    "    'f1' : [],\n",
    "    'val_loss' : [],\n",
    "    'val_acc' : [],\n",
    "    'val_prec' : [],\n",
    "    'val_rec' : [],\n",
    "    'val_f1' : [],\n",
    "    'iou' : []\n",
    "}\n",
    "\n",
    "# training loop\n",
    "for i in range(EPOCH):\n",
    "    train_history = model_train(train_dataloader, model, focal, adam, i+1)\n",
    "    val_result = model_predict(val_dataloader, model, focal, silent=False)\n",
    "\n",
    "    history = add_history(history, train_history, val_result)\n",
    "\n",
    "print_history(history)"
   ]
  },
  {
   "cell_type": "code",
   "execution_count": 4,
   "metadata": {},
   "outputs": [
    {
     "name": "stderr",
     "output_type": "stream",
     "text": [
      "Epoch: 1: 100%|████████| 1190/1190 [18:18<00:00,  1.08batch/s, train accuracy:0.950, loss:0.015, prec:0.547, rec:0.544]\n",
      "Predicting: 100%|█████████████████████████████████████████████████████████████████| 210/210 [01:49<00:00,  1.92batch/s]\n"
     ]
    },
    {
     "name": "stdout",
     "output_type": "stream",
     "text": [
      "iou:0.32000574469566345\n"
     ]
    },
    {
     "name": "stderr",
     "output_type": "stream",
     "text": [
      "Epoch: 2: 100%|████████| 1190/1190 [18:13<00:00,  1.09batch/s, train accuracy:0.963, loss:0.012, prec:0.642, rec:0.709]\n",
      "Predicting: 100%|█████████████████████████████████████████████████████████████████| 210/210 [01:37<00:00,  2.14batch/s]\n"
     ]
    },
    {
     "name": "stdout",
     "output_type": "stream",
     "text": [
      "iou:0.23273728787899017\n"
     ]
    },
    {
     "name": "stderr",
     "output_type": "stream",
     "text": [
      "Epoch: 3: 100%|████████| 1190/1190 [18:12<00:00,  1.09batch/s, train accuracy:0.967, loss:0.010, prec:0.674, rec:0.753]\n",
      "Predicting: 100%|█████████████████████████████████████████████████████████████████| 210/210 [01:52<00:00,  1.87batch/s]\n"
     ]
    },
    {
     "name": "stdout",
     "output_type": "stream",
     "text": [
      "iou:0.20672400295734406\n"
     ]
    },
    {
     "name": "stderr",
     "output_type": "stream",
     "text": [
      "Epoch: 4: 100%|████████| 1190/1190 [18:05<00:00,  1.10batch/s, train accuracy:0.969, loss:0.009, prec:0.694, rec:0.771]\n",
      "Predicting: 100%|█████████████████████████████████████████████████████████████████| 210/210 [01:36<00:00,  2.17batch/s]\n"
     ]
    },
    {
     "name": "stdout",
     "output_type": "stream",
     "text": [
      "iou:0.4853854477405548\n"
     ]
    },
    {
     "name": "stderr",
     "output_type": "stream",
     "text": [
      "Epoch: 5: 100%|████████| 1190/1190 [18:05<00:00,  1.10batch/s, train accuracy:0.971, loss:0.009, prec:0.709, rec:0.784]\n",
      "Predicting: 100%|█████████████████████████████████████████████████████████████████| 210/210 [01:36<00:00,  2.17batch/s]\n"
     ]
    },
    {
     "name": "stdout",
     "output_type": "stream",
     "text": [
      "iou:0.5404778122901917\n"
     ]
    },
    {
     "name": "stderr",
     "output_type": "stream",
     "text": [
      "Epoch: 6: 100%|████████| 1190/1190 [20:00<00:00,  1.01s/batch, train accuracy:0.973, loss:0.008, prec:0.725, rec:0.796]\n",
      "Predicting: 100%|█████████████████████████████████████████████████████████████████| 210/210 [02:14<00:00,  1.56batch/s]\n"
     ]
    },
    {
     "name": "stdout",
     "output_type": "stream",
     "text": [
      "iou:0.5659078359603882\n"
     ]
    },
    {
     "name": "stderr",
     "output_type": "stream",
     "text": [
      "Epoch: 7: 100%|████████| 1190/1190 [18:24<00:00,  1.08batch/s, train accuracy:0.973, loss:0.008, prec:0.728, rec:0.801]\n",
      "Predicting: 100%|█████████████████████████████████████████████████████████████████| 210/210 [01:37<00:00,  2.16batch/s]\n"
     ]
    },
    {
     "name": "stdout",
     "output_type": "stream",
     "text": [
      "iou:0.5723304748535156\n"
     ]
    },
    {
     "name": "stderr",
     "output_type": "stream",
     "text": [
      "Epoch: 8: 100%|████████| 1190/1190 [18:10<00:00,  1.09batch/s, train accuracy:0.974, loss:0.008, prec:0.738, rec:0.809]\n",
      "Predicting: 100%|█████████████████████████████████████████████████████████████████| 210/210 [01:37<00:00,  2.14batch/s]\n"
     ]
    },
    {
     "name": "stdout",
     "output_type": "stream",
     "text": [
      "iou:0.5987218618392944\n"
     ]
    },
    {
     "name": "stderr",
     "output_type": "stream",
     "text": [
      "Epoch: 9: 100%|████████| 1190/1190 [18:09<00:00,  1.09batch/s, train accuracy:0.975, loss:0.008, prec:0.744, rec:0.814]\n",
      "Predicting: 100%|█████████████████████████████████████████████████████████████████| 210/210 [01:56<00:00,  1.80batch/s]\n"
     ]
    },
    {
     "name": "stdout",
     "output_type": "stream",
     "text": [
      "iou:0.587415337562561\n"
     ]
    },
    {
     "name": "stderr",
     "output_type": "stream",
     "text": [
      "Epoch: 10: 100%|███████| 1190/1190 [18:03<00:00,  1.10batch/s, train accuracy:0.976, loss:0.008, prec:0.749, rec:0.819]\n",
      "Predicting: 100%|█████████████████████████████████████████████████████████████████| 210/210 [01:36<00:00,  2.17batch/s]\n"
     ]
    },
    {
     "name": "stdout",
     "output_type": "stream",
     "text": [
      "iou:0.5888938903808594\n",
      "training accuracy:0.976, precision:0.749, recall:0.819, f1:0.782\n",
      "validation accuracy:0.967, precision:0.679, recall:0.808, f1:0.738\n",
      "iou:0.589\n"
     ]
    }
   ],
   "source": [
    "from torchvision.models import resnet50\n",
    "\n",
    "model = TransUNet(resnet50(), 8, 8, 1024).to(DEVICE)\n",
    "\n",
    "focal = FocalLoss(gamma=2, alpha=0.65)\n",
    "adam = torch.optim.Adam(model.parameters(), lr=LR)\n",
    "\n",
    "history = {\n",
    "    'loss' : [],\n",
    "    'acc' : [],\n",
    "    'prec' : [],\n",
    "    'rec' : [],\n",
    "    'f1' : [],\n",
    "    'val_loss' : [],\n",
    "    'val_acc' : [],\n",
    "    'val_prec' : [],\n",
    "    'val_rec' : [],\n",
    "    'val_f1' : [],\n",
    "    'iou' : []\n",
    "}\n",
    "\n",
    "# training loop\n",
    "for i in range(EPOCH):\n",
    "    train_history = model_train(train_dataloader, model, focal, adam, i+1)\n",
    "    val_result = model_predict(val_dataloader, model, focal, silent=False)\n",
    "\n",
    "    history = add_history(history, train_history, val_result)\n",
    "\n",
    "print_history(history)"
   ]
  },
  {
   "cell_type": "markdown",
   "metadata": {},
   "source": [
    "# Continue Training"
   ]
  },
  {
   "cell_type": "code",
   "execution_count": 4,
   "metadata": {},
   "outputs": [
    {
     "name": "stdout",
     "output_type": "stream",
     "text": [
      "69\n",
      "training accuracy:0.986, precision:0.877, recall:0.829, f1:0.852\n",
      "validation accuracy:0.981, precision:0.848, recall:0.804, f1:0.825\n",
      "iou:0.711\n"
     ]
    }
   ],
   "source": [
    "from torchvision.models import resnet50\n",
    "path = \"models_segmentation/model_segmentation_70.pth\"\n",
    "checkpoint = torch.load(path)\n",
    "\n",
    "model = TransUNet(resnet50(), 8, 8, 3072).to(DEVICE)\n",
    "focal = FocalLoss(gamma=1, alpha=-1)\n",
    "adam = torch.optim.Adam(model.parameters(), lr=LR)\n",
    "\n",
    "model.load_state_dict(checkpoint['state_dict'])\n",
    "adam.load_state_dict(checkpoint['optimizer'])\n",
    "\n",
    "history = checkpoint['history']\n",
    "epoch_start = checkpoint['epoch']\n",
    "print(epoch_start)\n",
    "print_history(history)"
   ]
  },
  {
   "cell_type": "code",
   "execution_count": 5,
   "metadata": {},
   "outputs": [
    {
     "name": "stderr",
     "output_type": "stream",
     "text": [
      "Epoch: 70: 100%|███████| 2380/2380 [23:18<00:00,  1.70batch/s, train accuracy:0.986, loss:0.018, prec:0.878, rec:0.831]\n",
      "Predicting: 100%|█████████████████████████████████████████████████████████████████| 420/420 [04:16<00:00,  1.64batch/s]\n"
     ]
    },
    {
     "name": "stdout",
     "output_type": "stream",
     "text": [
      "iou:0.7099074721336365, f1:0.8231218457221985\n"
     ]
    },
    {
     "name": "stderr",
     "output_type": "stream",
     "text": [
      "Epoch: 71: 100%|███████| 2380/2380 [22:49<00:00,  1.74batch/s, train accuracy:0.986, loss:0.018, prec:0.875, rec:0.828]\n",
      "Predicting: 100%|█████████████████████████████████████████████████████████████████| 420/420 [04:04<00:00,  1.72batch/s]\n"
     ]
    },
    {
     "name": "stdout",
     "output_type": "stream",
     "text": [
      "iou:0.7089189291000366, f1:0.8237738609313965\n"
     ]
    },
    {
     "name": "stderr",
     "output_type": "stream",
     "text": [
      "Epoch: 72: 100%|███████| 2380/2380 [22:50<00:00,  1.74batch/s, train accuracy:0.986, loss:0.018, prec:0.878, rec:0.831]\n",
      "Predicting: 100%|█████████████████████████████████████████████████████████████████| 420/420 [04:04<00:00,  1.72batch/s]\n"
     ]
    },
    {
     "name": "stdout",
     "output_type": "stream",
     "text": [
      "iou:0.7121423482894897, f1:0.8249757885932922\n"
     ]
    },
    {
     "name": "stderr",
     "output_type": "stream",
     "text": [
      "Epoch: 73: 100%|███████| 2380/2380 [22:57<00:00,  1.73batch/s, train accuracy:0.986, loss:0.018, prec:0.878, rec:0.830]\n",
      "Predicting: 100%|█████████████████████████████████████████████████████████████████| 420/420 [04:16<00:00,  1.64batch/s]\n"
     ]
    },
    {
     "name": "stdout",
     "output_type": "stream",
     "text": [
      "iou:0.7179356217384338, f1:0.8287782669067383\n"
     ]
    },
    {
     "name": "stderr",
     "output_type": "stream",
     "text": [
      "Epoch: 74: 100%|███████| 2380/2380 [22:48<00:00,  1.74batch/s, train accuracy:0.986, loss:0.018, prec:0.877, rec:0.827]\n",
      "Predicting: 100%|█████████████████████████████████████████████████████████████████| 420/420 [04:03<00:00,  1.72batch/s]\n"
     ]
    },
    {
     "name": "stdout",
     "output_type": "stream",
     "text": [
      "iou:0.7112537026405334, f1:0.8240648508071899\n"
     ]
    },
    {
     "name": "stderr",
     "output_type": "stream",
     "text": [
      "Epoch: 75: 100%|███████| 2380/2380 [23:02<00:00,  1.72batch/s, train accuracy:0.986, loss:0.018, prec:0.879, rec:0.830]\n",
      "Predicting: 100%|█████████████████████████████████████████████████████████████████| 420/420 [04:03<00:00,  1.72batch/s]\n"
     ]
    },
    {
     "name": "stdout",
     "output_type": "stream",
     "text": [
      "iou:0.704215943813324, f1:0.8217564225196838\n"
     ]
    },
    {
     "name": "stderr",
     "output_type": "stream",
     "text": [
      "Epoch: 76: 100%|███████| 2380/2380 [22:53<00:00,  1.73batch/s, train accuracy:0.986, loss:0.018, prec:0.878, rec:0.830]\n",
      "Predicting: 100%|█████████████████████████████████████████████████████████████████| 420/420 [04:23<00:00,  1.59batch/s]\n"
     ]
    },
    {
     "name": "stdout",
     "output_type": "stream",
     "text": [
      "iou:0.7156445980072021, f1:0.8270706534385681\n"
     ]
    },
    {
     "name": "stderr",
     "output_type": "stream",
     "text": [
      "Epoch: 77: 100%|███████| 2380/2380 [22:49<00:00,  1.74batch/s, train accuracy:0.986, loss:0.018, prec:0.880, rec:0.834]\n",
      "Predicting: 100%|█████████████████████████████████████████████████████████████████| 420/420 [04:03<00:00,  1.72batch/s]\n"
     ]
    },
    {
     "name": "stdout",
     "output_type": "stream",
     "text": [
      "iou:0.7120890617370605, f1:0.8254038095474243\n"
     ]
    },
    {
     "name": "stderr",
     "output_type": "stream",
     "text": [
      "Epoch: 78: 100%|███████| 2380/2380 [22:59<00:00,  1.73batch/s, train accuracy:0.986, loss:0.018, prec:0.878, rec:0.830]\n",
      "Predicting: 100%|█████████████████████████████████████████████████████████████████| 420/420 [04:03<00:00,  1.72batch/s]\n"
     ]
    },
    {
     "name": "stdout",
     "output_type": "stream",
     "text": [
      "iou:0.7142578363418579, f1:0.8270659446716309\n"
     ]
    },
    {
     "name": "stderr",
     "output_type": "stream",
     "text": [
      "Epoch: 79: 100%|███████| 2380/2380 [23:03<00:00,  1.72batch/s, train accuracy:0.986, loss:0.018, prec:0.880, rec:0.833]\n",
      "Predicting: 100%|█████████████████████████████████████████████████████████████████| 420/420 [04:17<00:00,  1.63batch/s]\n"
     ]
    },
    {
     "name": "stdout",
     "output_type": "stream",
     "text": [
      "iou:0.7113415598869324, f1:0.825771152973175\n"
     ]
    },
    {
     "name": "stderr",
     "output_type": "stream",
     "text": [
      "Epoch: 80: 100%|███████| 2380/2380 [22:52<00:00,  1.73batch/s, train accuracy:0.986, loss:0.018, prec:0.879, rec:0.832]\n",
      "Predicting: 100%|█████████████████████████████████████████████████████████████████| 420/420 [04:03<00:00,  1.72batch/s]\n"
     ]
    },
    {
     "name": "stdout",
     "output_type": "stream",
     "text": [
      "iou:0.7183379530906677, f1:0.8293771743774414\n"
     ]
    },
    {
     "name": "stderr",
     "output_type": "stream",
     "text": [
      "Epoch: 81: 100%|███████| 2380/2380 [23:02<00:00,  1.72batch/s, train accuracy:0.986, loss:0.017, prec:0.881, rec:0.836]\n",
      "Predicting: 100%|█████████████████████████████████████████████████████████████████| 420/420 [04:03<00:00,  1.72batch/s]\n"
     ]
    },
    {
     "name": "stdout",
     "output_type": "stream",
     "text": [
      "iou:0.7190004587173462, f1:0.8301841616630554\n"
     ]
    },
    {
     "name": "stderr",
     "output_type": "stream",
     "text": [
      "Epoch: 82: 100%|███████| 2380/2380 [22:53<00:00,  1.73batch/s, train accuracy:0.986, loss:0.018, prec:0.880, rec:0.833]\n",
      "Predicting: 100%|█████████████████████████████████████████████████████████████████| 420/420 [04:06<00:00,  1.70batch/s]\n"
     ]
    },
    {
     "name": "stdout",
     "output_type": "stream",
     "text": [
      "iou:0.7071149349212646, f1:0.821092963218689\n"
     ]
    },
    {
     "name": "stderr",
     "output_type": "stream",
     "text": [
      "Epoch: 83: 100%|███████| 2380/2380 [23:02<00:00,  1.72batch/s, train accuracy:0.986, loss:0.018, prec:0.880, rec:0.833]\n",
      "Predicting: 100%|█████████████████████████████████████████████████████████████████| 420/420 [03:58<00:00,  1.76batch/s]\n"
     ]
    },
    {
     "name": "stdout",
     "output_type": "stream",
     "text": [
      "iou:0.7205366492271423, f1:0.8319962024688721\n"
     ]
    },
    {
     "name": "stderr",
     "output_type": "stream",
     "text": [
      "Epoch: 84: 100%|███████| 2380/2380 [23:01<00:00,  1.72batch/s, train accuracy:0.986, loss:0.017, prec:0.882, rec:0.836]\n",
      "Predicting: 100%|█████████████████████████████████████████████████████████████████| 420/420 [03:58<00:00,  1.76batch/s]\n"
     ]
    },
    {
     "name": "stdout",
     "output_type": "stream",
     "text": [
      "iou:0.7142810225486755, f1:0.8266105055809021\n"
     ]
    },
    {
     "name": "stderr",
     "output_type": "stream",
     "text": [
      "Epoch: 85: 100%|███████| 2380/2380 [22:51<00:00,  1.74batch/s, train accuracy:0.986, loss:0.018, prec:0.879, rec:0.831]\n",
      "Predicting: 100%|█████████████████████████████████████████████████████████████████| 420/420 [04:16<00:00,  1.64batch/s]\n"
     ]
    },
    {
     "name": "stdout",
     "output_type": "stream",
     "text": [
      "iou:0.7155459523200989, f1:0.8282512426376343\n"
     ]
    },
    {
     "name": "stderr",
     "output_type": "stream",
     "text": [
      "Epoch: 86: 100%|███████| 2380/2380 [23:01<00:00,  1.72batch/s, train accuracy:0.986, loss:0.017, prec:0.884, rec:0.837]\n",
      "Predicting: 100%|█████████████████████████████████████████████████████████████████| 420/420 [03:58<00:00,  1.76batch/s]\n"
     ]
    },
    {
     "name": "stdout",
     "output_type": "stream",
     "text": [
      "iou:0.7162818312644958, f1:0.8290892243385315\n"
     ]
    },
    {
     "name": "stderr",
     "output_type": "stream",
     "text": [
      "Epoch: 87: 100%|███████| 2380/2380 [22:56<00:00,  1.73batch/s, train accuracy:0.986, loss:0.017, prec:0.882, rec:0.837]\n",
      "Predicting: 100%|█████████████████████████████████████████████████████████████████| 420/420 [03:58<00:00,  1.76batch/s]\n"
     ]
    },
    {
     "name": "stdout",
     "output_type": "stream",
     "text": [
      "iou:0.7163568735122681, f1:0.8284671306610107\n"
     ]
    },
    {
     "name": "stderr",
     "output_type": "stream",
     "text": [
      "Epoch: 88: 100%|███████| 2380/2380 [22:56<00:00,  1.73batch/s, train accuracy:0.986, loss:0.017, prec:0.882, rec:0.835]\n",
      "Predicting: 100%|█████████████████████████████████████████████████████████████████| 420/420 [04:08<00:00,  1.69batch/s]\n"
     ]
    },
    {
     "name": "stdout",
     "output_type": "stream",
     "text": [
      "iou:0.7066863179206848, f1:0.8193429112434387\n"
     ]
    },
    {
     "name": "stderr",
     "output_type": "stream",
     "text": [
      "Epoch: 89: 100%|███████| 2380/2380 [23:22<00:00,  1.70batch/s, train accuracy:0.986, loss:0.017, prec:0.883, rec:0.838]\n",
      "Predicting: 100%|█████████████████████████████████████████████████████████████████| 420/420 [03:59<00:00,  1.76batch/s]\n"
     ]
    },
    {
     "name": "stdout",
     "output_type": "stream",
     "text": [
      "iou:0.7020442485809326, f1:0.818783700466156\n"
     ]
    },
    {
     "name": "stderr",
     "output_type": "stream",
     "text": [
      "Epoch: 90: 100%|███████| 2380/2380 [23:03<00:00,  1.72batch/s, train accuracy:0.986, loss:0.017, prec:0.881, rec:0.837]\n",
      "Predicting: 100%|█████████████████████████████████████████████████████████████████| 420/420 [03:58<00:00,  1.76batch/s]\n"
     ]
    },
    {
     "name": "stdout",
     "output_type": "stream",
     "text": [
      "iou:0.7188804745674133, f1:0.830568253993988\n"
     ]
    },
    {
     "name": "stderr",
     "output_type": "stream",
     "text": [
      "Epoch: 91: 100%|███████| 2380/2380 [22:59<00:00,  1.73batch/s, train accuracy:0.986, loss:0.017, prec:0.883, rec:0.837]\n",
      "Predicting: 100%|█████████████████████████████████████████████████████████████████| 420/420 [04:17<00:00,  1.63batch/s]\n"
     ]
    },
    {
     "name": "stdout",
     "output_type": "stream",
     "text": [
      "iou:0.7093514204025269, f1:0.8226858377456665\n"
     ]
    },
    {
     "name": "stderr",
     "output_type": "stream",
     "text": [
      "Epoch: 92: 100%|███████| 2380/2380 [22:58<00:00,  1.73batch/s, train accuracy:0.986, loss:0.017, prec:0.883, rec:0.838]\n",
      "Predicting: 100%|█████████████████████████████████████████████████████████████████| 420/420 [03:58<00:00,  1.76batch/s]\n"
     ]
    },
    {
     "name": "stdout",
     "output_type": "stream",
     "text": [
      "iou:0.7262330055236816, f1:0.8355527520179749\n"
     ]
    },
    {
     "name": "stderr",
     "output_type": "stream",
     "text": [
      "Epoch: 93: 100%|███████| 2380/2380 [22:53<00:00,  1.73batch/s, train accuracy:0.987, loss:0.017, prec:0.885, rec:0.840]\n",
      "Predicting: 100%|█████████████████████████████████████████████████████████████████| 420/420 [03:58<00:00,  1.76batch/s]\n"
     ]
    },
    {
     "name": "stdout",
     "output_type": "stream",
     "text": [
      "iou:0.7171525955200195, f1:0.8284191489219666\n"
     ]
    },
    {
     "name": "stderr",
     "output_type": "stream",
     "text": [
      "Epoch: 94: 100%|███████| 2380/2380 [23:48<00:00,  1.67batch/s, train accuracy:0.986, loss:0.017, prec:0.884, rec:0.840]\n",
      "Predicting: 100%|█████████████████████████████████████████████████████████████████| 420/420 [04:45<00:00,  1.47batch/s]\n"
     ]
    },
    {
     "name": "stdout",
     "output_type": "stream",
     "text": [
      "iou:0.5881813764572144, f1:0.733180820941925\n"
     ]
    },
    {
     "name": "stderr",
     "output_type": "stream",
     "text": [
      "Epoch: 95: 100%|███████| 2380/2380 [24:14<00:00,  1.64batch/s, train accuracy:0.986, loss:0.017, prec:0.885, rec:0.839]\n",
      "Predicting: 100%|█████████████████████████████████████████████████████████████████| 420/420 [03:58<00:00,  1.76batch/s]\n"
     ]
    },
    {
     "name": "stdout",
     "output_type": "stream",
     "text": [
      "iou:0.7262318134307861, f1:0.8350834846496582\n"
     ]
    },
    {
     "name": "stderr",
     "output_type": "stream",
     "text": [
      "Epoch: 96: 100%|███████| 2380/2380 [22:58<00:00,  1.73batch/s, train accuracy:0.987, loss:0.017, prec:0.884, rec:0.839]\n",
      "Predicting: 100%|█████████████████████████████████████████████████████████████████| 420/420 [03:58<00:00,  1.76batch/s]\n"
     ]
    },
    {
     "name": "stdout",
     "output_type": "stream",
     "text": [
      "iou:0.7167184352874756, f1:0.8292354941368103\n"
     ]
    },
    {
     "name": "stderr",
     "output_type": "stream",
     "text": [
      "Epoch: 97: 100%|███████| 2380/2380 [22:57<00:00,  1.73batch/s, train accuracy:0.986, loss:0.017, prec:0.884, rec:0.839]\n",
      "Predicting: 100%|█████████████████████████████████████████████████████████████████| 420/420 [04:16<00:00,  1.64batch/s]\n"
     ]
    },
    {
     "name": "stdout",
     "output_type": "stream",
     "text": [
      "iou:0.7173724174499512, f1:0.8288128972053528\n"
     ]
    },
    {
     "name": "stderr",
     "output_type": "stream",
     "text": [
      "Epoch: 98: 100%|███████| 2380/2380 [22:57<00:00,  1.73batch/s, train accuracy:0.987, loss:0.017, prec:0.886, rec:0.841]\n",
      "Predicting: 100%|█████████████████████████████████████████████████████████████████| 420/420 [03:58<00:00,  1.76batch/s]\n"
     ]
    },
    {
     "name": "stdout",
     "output_type": "stream",
     "text": [
      "iou:0.7163480520248413, f1:0.8274666666984558\n"
     ]
    },
    {
     "name": "stderr",
     "output_type": "stream",
     "text": [
      "Epoch: 99: 100%|███████| 2380/2380 [22:56<00:00,  1.73batch/s, train accuracy:0.987, loss:0.017, prec:0.885, rec:0.842]\n",
      "Predicting: 100%|█████████████████████████████████████████████████████████████████| 420/420 [03:58<00:00,  1.76batch/s]\n"
     ]
    },
    {
     "name": "stdout",
     "output_type": "stream",
     "text": [
      "iou:0.7070115804672241, f1:0.8227099776268005\n"
     ]
    },
    {
     "name": "stderr",
     "output_type": "stream",
     "text": [
      "Epoch: 100: 100%|██████| 2380/2380 [23:06<00:00,  1.72batch/s, train accuracy:0.986, loss:0.017, prec:0.883, rec:0.839]\n",
      "Predicting: 100%|█████████████████████████████████████████████████████████████████| 420/420 [04:23<00:00,  1.60batch/s]\n"
     ]
    },
    {
     "name": "stdout",
     "output_type": "stream",
     "text": [
      "iou:0.7179859280586243, f1:0.8307003378868103\n",
      "training accuracy:0.986, precision:0.883, recall:0.839, f1:0.860\n",
      "validation accuracy:0.981, precision:0.868, recall:0.797, f1:0.831\n",
      "iou:0.718\n"
     ]
    }
   ],
   "source": [
    "EPOCH = 100\n",
    "\n",
    "# training loop\n",
    "for i in range(epoch_start, EPOCH):\n",
    "    train_history = model_train(train_dataloader, model, focal, adam, i+1)\n",
    "    val_result = model_predict(val_dataloader, model, focal, silent=False)\n",
    "\n",
    "    history = add_history(history, train_history, val_result)\n",
    "    \n",
    "    if ((i+1)%10 == 0):\n",
    "        state = {\n",
    "            'epoch' : i,\n",
    "            'state_dict': model.state_dict(),\n",
    "            'optimizer': adam.state_dict(),\n",
    "            'history' : history\n",
    "        }\n",
    "        torch.save(state, f\"model_segmentation_{i+1}.pth\")\n",
    "\n",
    "print_history(history)"
   ]
  },
  {
   "cell_type": "markdown",
   "metadata": {},
   "source": [
    "***"
   ]
  },
  {
   "cell_type": "code",
   "execution_count": 4,
   "metadata": {},
   "outputs": [
    {
     "name": "stderr",
     "output_type": "stream",
     "text": [
      "Predicting: 100%|█████████████████████████████████████████████████████████████████| 280/280 [03:14<00:00,  1.44batch/s]\n"
     ]
    },
    {
     "name": "stdout",
     "output_type": "stream",
     "text": [
      "iou:0.6309375166893005, f1:0.7706986665725708\n"
     ]
    }
   ],
   "source": [
    "from torchvision.models import resnet50\n",
    "\n",
    "path = \"segmentation gamma 1\\model_segmentation_30.pth\"\n",
    "checkpoint = torch.load(path)\n",
    "\n",
    "model = TransUNet(resnet50(), 8, 8, 1024).to(DEVICE)\n",
    "focal = FocalLoss(gamma=1, alpha=-1)\n",
    "\n",
    "model.load_state_dict(checkpoint['state_dict'])\n",
    "\n",
    "val_result = model_predict(val_dataloader, model, focal, silent=False)"
   ]
  },
  {
   "cell_type": "code",
   "execution_count": 5,
   "metadata": {},
   "outputs": [
    {
     "name": "stdout",
     "output_type": "stream",
     "text": [
      "accuracy:0.975, precision:0.842, recall:0.711, f1:0.771, iou:0.631\n"
     ]
    }
   ],
   "source": [
    "print(f\"accuracy:{val_result['accuracy']:.3f}, precision:{val_result['precision']:.3f}, recall:{val_result['recall']:.3f}, f1:{val_result['f1_score']:.3f}, iou:{val_result['iou']:.3f}\")"
   ]
  },
  {
   "cell_type": "code",
   "execution_count": null,
   "metadata": {},
   "outputs": [],
   "source": [
    "plot_history(history)"
   ]
  }
 ],
 "metadata": {
  "kernelspec": {
   "display_name": "Python 3 (ipykernel)",
   "language": "python",
   "name": "python3"
  },
  "language_info": {
   "codemirror_mode": {
    "name": "ipython",
    "version": 3
   },
   "file_extension": ".py",
   "mimetype": "text/x-python",
   "name": "python",
   "nbconvert_exporter": "python",
   "pygments_lexer": "ipython3",
   "version": "3.10.6"
  },
  "vscode": {
   "interpreter": {
    "hash": "9c39c1d352b1b33b9773a03fde87dd70d7a73bf47607333d53e9195008013099"
   }
  }
 },
 "nbformat": 4,
 "nbformat_minor": 2
}
